{
 "cells": [
  {
   "cell_type": "code",
   "execution_count": 388,
   "metadata": {},
   "outputs": [],
   "source": [
    "import numpy as np              # Массивы (матрицы, векторы, линейная алгебра)\n",
    "import matplotlib.pyplot as plt # Научная графика\n",
    "%matplotlib inline \n",
    "import pandas as pd             # Таблицы и временные ряды (dataframe, series)\n",
    "import seaborn as sns           # Еще больше красивой графики для визуализации данных\n",
    "import sklearn                  # Алгоритмы машинного обучения "
   ]
  },
  {
   "cell_type": "markdown",
   "metadata": {},
   "source": [
    "## 0. Описание задачи\n",
    "Таблица содержит данные о 11914 автомобилях и 16 признаков:\n",
    "\n",
    "- `Make` - марка авто\n",
    "- `Model` - модель авто\n",
    "- `Year` - год выпуска автомобиля\n",
    "- `Engine Fuel Type` - тип топлива двигателя\n",
    "- `Engine HP` - мощность двигателя\n",
    "- `Engine Cylinders` - количество цилиндров в двигателе\n",
    "- `Transmission Type` - тип трансмиссии\n",
    "- `Driven_Wheels` - ведущие колеса\n",
    "- `Number of Doors` - количество дверей\n",
    "- `Market Category` - категория рынка\n",
    "- `Vehicle Size` - размер автомобиля\n",
    "- `Vehicle Style` - тип кузова автомобиля\n",
    "- `highway MPG` - расход топлива по шоссе\n",
    "- `city mpg` - расход топлива по городу\n",
    "- `Popularity` - популярность\n",
    "- `MSRP` - рекомендованная производителем рыночная цина\n",
    "\n",
    "Постановка задачи:\n",
    "\n",
    "Требуется предсказать категориальный признак `Engine Cylinders`, представленный в числовом виде (количество цилиндров в двигателе) по остальным признакам. Это задача классификации."
   ]
  },
  {
   "cell_type": "markdown",
   "metadata": {},
   "source": [
    "## 1. Загружаем данные"
   ]
  },
  {
   "cell_type": "code",
   "execution_count": 389,
   "metadata": {},
   "outputs": [],
   "source": [
    "url = \"https://raw.githubusercontent.com/kirrealdev/MachineLearningCourseUNN/master/data.csv\"\n",
    "data = pd.read_csv(url)"
   ]
  },
  {
   "cell_type": "markdown",
   "metadata": {},
   "source": [
    "Этот метод отображает первые строки (по умолчанию, 5 строк) таблицы:"
   ]
  },
  {
   "cell_type": "code",
   "execution_count": 390,
   "metadata": {},
   "outputs": [
    {
     "data": {
      "text/html": [
       "<div>\n",
       "<style scoped>\n",
       "    .dataframe tbody tr th:only-of-type {\n",
       "        vertical-align: middle;\n",
       "    }\n",
       "\n",
       "    .dataframe tbody tr th {\n",
       "        vertical-align: top;\n",
       "    }\n",
       "\n",
       "    .dataframe thead th {\n",
       "        text-align: right;\n",
       "    }\n",
       "</style>\n",
       "<table border=\"1\" class=\"dataframe\">\n",
       "  <thead>\n",
       "    <tr style=\"text-align: right;\">\n",
       "      <th></th>\n",
       "      <th>Make</th>\n",
       "      <th>Model</th>\n",
       "      <th>Year</th>\n",
       "      <th>Engine Fuel Type</th>\n",
       "      <th>Engine HP</th>\n",
       "      <th>Engine Cylinders</th>\n",
       "      <th>Transmission Type</th>\n",
       "      <th>Driven_Wheels</th>\n",
       "      <th>Number of Doors</th>\n",
       "      <th>Market Category</th>\n",
       "      <th>Vehicle Size</th>\n",
       "      <th>Vehicle Style</th>\n",
       "      <th>highway MPG</th>\n",
       "      <th>city mpg</th>\n",
       "      <th>Popularity</th>\n",
       "      <th>MSRP</th>\n",
       "    </tr>\n",
       "  </thead>\n",
       "  <tbody>\n",
       "    <tr>\n",
       "      <th>0</th>\n",
       "      <td>BMW</td>\n",
       "      <td>1 Series M</td>\n",
       "      <td>2011</td>\n",
       "      <td>premium unleaded (required)</td>\n",
       "      <td>335.0</td>\n",
       "      <td>6.0</td>\n",
       "      <td>MANUAL</td>\n",
       "      <td>rear wheel drive</td>\n",
       "      <td>2.0</td>\n",
       "      <td>Factory Tuner,Luxury,High-Performance</td>\n",
       "      <td>Compact</td>\n",
       "      <td>Coupe</td>\n",
       "      <td>26</td>\n",
       "      <td>19</td>\n",
       "      <td>3916</td>\n",
       "      <td>46135</td>\n",
       "    </tr>\n",
       "    <tr>\n",
       "      <th>1</th>\n",
       "      <td>BMW</td>\n",
       "      <td>1 Series</td>\n",
       "      <td>2011</td>\n",
       "      <td>premium unleaded (required)</td>\n",
       "      <td>300.0</td>\n",
       "      <td>6.0</td>\n",
       "      <td>MANUAL</td>\n",
       "      <td>rear wheel drive</td>\n",
       "      <td>2.0</td>\n",
       "      <td>Luxury,Performance</td>\n",
       "      <td>Compact</td>\n",
       "      <td>Convertible</td>\n",
       "      <td>28</td>\n",
       "      <td>19</td>\n",
       "      <td>3916</td>\n",
       "      <td>40650</td>\n",
       "    </tr>\n",
       "    <tr>\n",
       "      <th>2</th>\n",
       "      <td>BMW</td>\n",
       "      <td>1 Series</td>\n",
       "      <td>2011</td>\n",
       "      <td>premium unleaded (required)</td>\n",
       "      <td>300.0</td>\n",
       "      <td>6.0</td>\n",
       "      <td>MANUAL</td>\n",
       "      <td>rear wheel drive</td>\n",
       "      <td>2.0</td>\n",
       "      <td>Luxury,High-Performance</td>\n",
       "      <td>Compact</td>\n",
       "      <td>Coupe</td>\n",
       "      <td>28</td>\n",
       "      <td>20</td>\n",
       "      <td>3916</td>\n",
       "      <td>36350</td>\n",
       "    </tr>\n",
       "    <tr>\n",
       "      <th>3</th>\n",
       "      <td>BMW</td>\n",
       "      <td>1 Series</td>\n",
       "      <td>2011</td>\n",
       "      <td>premium unleaded (required)</td>\n",
       "      <td>230.0</td>\n",
       "      <td>6.0</td>\n",
       "      <td>MANUAL</td>\n",
       "      <td>rear wheel drive</td>\n",
       "      <td>2.0</td>\n",
       "      <td>Luxury,Performance</td>\n",
       "      <td>Compact</td>\n",
       "      <td>Coupe</td>\n",
       "      <td>28</td>\n",
       "      <td>18</td>\n",
       "      <td>3916</td>\n",
       "      <td>29450</td>\n",
       "    </tr>\n",
       "    <tr>\n",
       "      <th>4</th>\n",
       "      <td>BMW</td>\n",
       "      <td>1 Series</td>\n",
       "      <td>2011</td>\n",
       "      <td>premium unleaded (required)</td>\n",
       "      <td>230.0</td>\n",
       "      <td>6.0</td>\n",
       "      <td>MANUAL</td>\n",
       "      <td>rear wheel drive</td>\n",
       "      <td>2.0</td>\n",
       "      <td>Luxury</td>\n",
       "      <td>Compact</td>\n",
       "      <td>Convertible</td>\n",
       "      <td>28</td>\n",
       "      <td>18</td>\n",
       "      <td>3916</td>\n",
       "      <td>34500</td>\n",
       "    </tr>\n",
       "  </tbody>\n",
       "</table>\n",
       "</div>"
      ],
      "text/plain": [
       "  Make       Model  Year             Engine Fuel Type  Engine HP  \\\n",
       "0  BMW  1 Series M  2011  premium unleaded (required)      335.0   \n",
       "1  BMW    1 Series  2011  premium unleaded (required)      300.0   \n",
       "2  BMW    1 Series  2011  premium unleaded (required)      300.0   \n",
       "3  BMW    1 Series  2011  premium unleaded (required)      230.0   \n",
       "4  BMW    1 Series  2011  premium unleaded (required)      230.0   \n",
       "\n",
       "   Engine Cylinders Transmission Type     Driven_Wheels  Number of Doors  \\\n",
       "0               6.0            MANUAL  rear wheel drive              2.0   \n",
       "1               6.0            MANUAL  rear wheel drive              2.0   \n",
       "2               6.0            MANUAL  rear wheel drive              2.0   \n",
       "3               6.0            MANUAL  rear wheel drive              2.0   \n",
       "4               6.0            MANUAL  rear wheel drive              2.0   \n",
       "\n",
       "                         Market Category Vehicle Size Vehicle Style  \\\n",
       "0  Factory Tuner,Luxury,High-Performance      Compact         Coupe   \n",
       "1                     Luxury,Performance      Compact   Convertible   \n",
       "2                Luxury,High-Performance      Compact         Coupe   \n",
       "3                     Luxury,Performance      Compact         Coupe   \n",
       "4                                 Luxury      Compact   Convertible   \n",
       "\n",
       "   highway MPG  city mpg  Popularity   MSRP  \n",
       "0           26        19        3916  46135  \n",
       "1           28        19        3916  40650  \n",
       "2           28        20        3916  36350  \n",
       "3           28        18        3916  29450  \n",
       "4           28        18        3916  34500  "
      ]
     },
     "execution_count": 390,
     "metadata": {},
     "output_type": "execute_result"
    }
   ],
   "source": [
    "data.head()"
   ]
  },
  {
   "cell_type": "markdown",
   "metadata": {},
   "source": [
    "Метод data.tail() отображает последние строки (по умолчанию, 5 строк) таблицы:"
   ]
  },
  {
   "cell_type": "code",
   "execution_count": 391,
   "metadata": {},
   "outputs": [
    {
     "data": {
      "text/html": [
       "<div>\n",
       "<style scoped>\n",
       "    .dataframe tbody tr th:only-of-type {\n",
       "        vertical-align: middle;\n",
       "    }\n",
       "\n",
       "    .dataframe tbody tr th {\n",
       "        vertical-align: top;\n",
       "    }\n",
       "\n",
       "    .dataframe thead th {\n",
       "        text-align: right;\n",
       "    }\n",
       "</style>\n",
       "<table border=\"1\" class=\"dataframe\">\n",
       "  <thead>\n",
       "    <tr style=\"text-align: right;\">\n",
       "      <th></th>\n",
       "      <th>Make</th>\n",
       "      <th>Model</th>\n",
       "      <th>Year</th>\n",
       "      <th>Engine Fuel Type</th>\n",
       "      <th>Engine HP</th>\n",
       "      <th>Engine Cylinders</th>\n",
       "      <th>Transmission Type</th>\n",
       "      <th>Driven_Wheels</th>\n",
       "      <th>Number of Doors</th>\n",
       "      <th>Market Category</th>\n",
       "      <th>Vehicle Size</th>\n",
       "      <th>Vehicle Style</th>\n",
       "      <th>highway MPG</th>\n",
       "      <th>city mpg</th>\n",
       "      <th>Popularity</th>\n",
       "      <th>MSRP</th>\n",
       "    </tr>\n",
       "  </thead>\n",
       "  <tbody>\n",
       "    <tr>\n",
       "      <th>11909</th>\n",
       "      <td>Acura</td>\n",
       "      <td>ZDX</td>\n",
       "      <td>2012</td>\n",
       "      <td>premium unleaded (required)</td>\n",
       "      <td>300.0</td>\n",
       "      <td>6.0</td>\n",
       "      <td>AUTOMATIC</td>\n",
       "      <td>all wheel drive</td>\n",
       "      <td>4.0</td>\n",
       "      <td>Crossover,Hatchback,Luxury</td>\n",
       "      <td>Midsize</td>\n",
       "      <td>4dr Hatchback</td>\n",
       "      <td>23</td>\n",
       "      <td>16</td>\n",
       "      <td>204</td>\n",
       "      <td>46120</td>\n",
       "    </tr>\n",
       "    <tr>\n",
       "      <th>11910</th>\n",
       "      <td>Acura</td>\n",
       "      <td>ZDX</td>\n",
       "      <td>2012</td>\n",
       "      <td>premium unleaded (required)</td>\n",
       "      <td>300.0</td>\n",
       "      <td>6.0</td>\n",
       "      <td>AUTOMATIC</td>\n",
       "      <td>all wheel drive</td>\n",
       "      <td>4.0</td>\n",
       "      <td>Crossover,Hatchback,Luxury</td>\n",
       "      <td>Midsize</td>\n",
       "      <td>4dr Hatchback</td>\n",
       "      <td>23</td>\n",
       "      <td>16</td>\n",
       "      <td>204</td>\n",
       "      <td>56670</td>\n",
       "    </tr>\n",
       "    <tr>\n",
       "      <th>11911</th>\n",
       "      <td>Acura</td>\n",
       "      <td>ZDX</td>\n",
       "      <td>2012</td>\n",
       "      <td>premium unleaded (required)</td>\n",
       "      <td>300.0</td>\n",
       "      <td>6.0</td>\n",
       "      <td>AUTOMATIC</td>\n",
       "      <td>all wheel drive</td>\n",
       "      <td>4.0</td>\n",
       "      <td>Crossover,Hatchback,Luxury</td>\n",
       "      <td>Midsize</td>\n",
       "      <td>4dr Hatchback</td>\n",
       "      <td>23</td>\n",
       "      <td>16</td>\n",
       "      <td>204</td>\n",
       "      <td>50620</td>\n",
       "    </tr>\n",
       "    <tr>\n",
       "      <th>11912</th>\n",
       "      <td>Acura</td>\n",
       "      <td>ZDX</td>\n",
       "      <td>2013</td>\n",
       "      <td>premium unleaded (recommended)</td>\n",
       "      <td>300.0</td>\n",
       "      <td>6.0</td>\n",
       "      <td>AUTOMATIC</td>\n",
       "      <td>all wheel drive</td>\n",
       "      <td>4.0</td>\n",
       "      <td>Crossover,Hatchback,Luxury</td>\n",
       "      <td>Midsize</td>\n",
       "      <td>4dr Hatchback</td>\n",
       "      <td>23</td>\n",
       "      <td>16</td>\n",
       "      <td>204</td>\n",
       "      <td>50920</td>\n",
       "    </tr>\n",
       "    <tr>\n",
       "      <th>11913</th>\n",
       "      <td>Lincoln</td>\n",
       "      <td>Zephyr</td>\n",
       "      <td>2006</td>\n",
       "      <td>regular unleaded</td>\n",
       "      <td>221.0</td>\n",
       "      <td>6.0</td>\n",
       "      <td>AUTOMATIC</td>\n",
       "      <td>front wheel drive</td>\n",
       "      <td>4.0</td>\n",
       "      <td>Luxury</td>\n",
       "      <td>Midsize</td>\n",
       "      <td>Sedan</td>\n",
       "      <td>26</td>\n",
       "      <td>17</td>\n",
       "      <td>61</td>\n",
       "      <td>28995</td>\n",
       "    </tr>\n",
       "  </tbody>\n",
       "</table>\n",
       "</div>"
      ],
      "text/plain": [
       "          Make   Model  Year                Engine Fuel Type  Engine HP  \\\n",
       "11909    Acura     ZDX  2012     premium unleaded (required)      300.0   \n",
       "11910    Acura     ZDX  2012     premium unleaded (required)      300.0   \n",
       "11911    Acura     ZDX  2012     premium unleaded (required)      300.0   \n",
       "11912    Acura     ZDX  2013  premium unleaded (recommended)      300.0   \n",
       "11913  Lincoln  Zephyr  2006                regular unleaded      221.0   \n",
       "\n",
       "       Engine Cylinders Transmission Type      Driven_Wheels  Number of Doors  \\\n",
       "11909               6.0         AUTOMATIC    all wheel drive              4.0   \n",
       "11910               6.0         AUTOMATIC    all wheel drive              4.0   \n",
       "11911               6.0         AUTOMATIC    all wheel drive              4.0   \n",
       "11912               6.0         AUTOMATIC    all wheel drive              4.0   \n",
       "11913               6.0         AUTOMATIC  front wheel drive              4.0   \n",
       "\n",
       "                  Market Category Vehicle Size  Vehicle Style  highway MPG  \\\n",
       "11909  Crossover,Hatchback,Luxury      Midsize  4dr Hatchback           23   \n",
       "11910  Crossover,Hatchback,Luxury      Midsize  4dr Hatchback           23   \n",
       "11911  Crossover,Hatchback,Luxury      Midsize  4dr Hatchback           23   \n",
       "11912  Crossover,Hatchback,Luxury      Midsize  4dr Hatchback           23   \n",
       "11913                      Luxury      Midsize          Sedan           26   \n",
       "\n",
       "       city mpg  Popularity   MSRP  \n",
       "11909        16         204  46120  \n",
       "11910        16         204  56670  \n",
       "11911        16         204  50620  \n",
       "11912        16         204  50920  \n",
       "11913        17          61  28995  "
      ]
     },
     "execution_count": 391,
     "metadata": {},
     "output_type": "execute_result"
    }
   ],
   "source": [
    "data.tail()"
   ]
  },
  {
   "cell_type": "markdown",
   "metadata": {},
   "source": [
    "C помощью метода columns можем получить имена признаков:"
   ]
  },
  {
   "cell_type": "code",
   "execution_count": 392,
   "metadata": {},
   "outputs": [
    {
     "data": {
      "text/plain": [
       "Index(['Make', 'Model', 'Year', 'Engine Fuel Type', 'Engine HP',\n",
       "       'Engine Cylinders', 'Transmission Type', 'Driven_Wheels',\n",
       "       'Number of Doors', 'Market Category', 'Vehicle Size', 'Vehicle Style',\n",
       "       'highway MPG', 'city mpg', 'Popularity', 'MSRP'],\n",
       "      dtype='object')"
      ]
     },
     "execution_count": 392,
     "metadata": {},
     "output_type": "execute_result"
    }
   ],
   "source": [
    "data.columns"
   ]
  },
  {
   "cell_type": "markdown",
   "metadata": {},
   "source": [
    "\n",
    "Анализ признаков: \n",
    "- Признаки: `Engine Cylinders`, `Number of Doors` - категориальные, представлены в числовом виде.\n",
    "- Признаки: `Make`, `Model`, `Engine Fuel Type`, `Transmission Type`, `Driven_Wheels`, `Market Category`, `Vehicle Size`, `Vehicle Style` - категориальные представленные в виде букв либо букв + чисел.\n",
    "- Признаки: `Year`, `Engine HP`, `highway MPG`, `city mpg`, `Popularity`, `MSRP` - числовые.\n"
   ]
  },
  {
   "cell_type": "code",
   "execution_count": 393,
   "metadata": {},
   "outputs": [
    {
     "data": {
      "text/plain": [
       "Index(['Make', 'Model', 'Year', 'Engine Fuel Type', 'Engine HP',\n",
       "       'Engine Cylinders', 'Transmission Type', 'Driven_Wheels',\n",
       "       'Number of Doors', 'Market Category', 'Vehicle Size', 'Vehicle Style',\n",
       "       'highway MPG', 'city mpg', 'Popularity', 'MSRP'],\n",
       "      dtype='object')"
      ]
     },
     "execution_count": 393,
     "metadata": {},
     "output_type": "execute_result"
    }
   ],
   "source": [
    "data.columns"
   ]
  },
  {
   "cell_type": "code",
   "execution_count": 394,
   "metadata": {},
   "outputs": [
    {
     "data": {
      "text/plain": [
       "RangeIndex(start=0, stop=11914, step=1)"
      ]
     },
     "execution_count": 394,
     "metadata": {},
     "output_type": "execute_result"
    }
   ],
   "source": [
    "data.index"
   ]
  },
  {
   "cell_type": "code",
   "execution_count": 395,
   "metadata": {},
   "outputs": [
    {
     "data": {
      "text/plain": [
       "Make                  object\n",
       "Model                 object\n",
       "Year                   int64\n",
       "Engine Fuel Type      object\n",
       "Engine HP            float64\n",
       "Engine Cylinders     float64\n",
       "Transmission Type     object\n",
       "Driven_Wheels         object\n",
       "Number of Doors      float64\n",
       "Market Category       object\n",
       "Vehicle Size          object\n",
       "Vehicle Style         object\n",
       "highway MPG            int64\n",
       "city mpg               int64\n",
       "Popularity             int64\n",
       "MSRP                   int64\n",
       "dtype: object"
      ]
     },
     "execution_count": 395,
     "metadata": {},
     "output_type": "execute_result"
    }
   ],
   "source": [
    "data.dtypes"
   ]
  },
  {
   "cell_type": "markdown",
   "metadata": {},
   "source": [
    "Столбцы `Make`, `Model`, `Engine Fuel Type`, `Transmission Type`, `Driven_Wheels`, `Market Category`, `Vehicle Size`, `Vehicle Style` содержат категориальные значения. Пока они имеют тип `'Object`'. Заменим тип на специальный, предназначенный для хранения категориальных значений:"
   ]
  },
  {
   "cell_type": "code",
   "execution_count": 396,
   "metadata": {},
   "outputs": [],
   "source": [
    "data['Make'] = data['Make'].astype('category')\n",
    "data['Model'] = data['Model'].astype('category')\n",
    "data['Engine Fuel Type'] = data['Engine Fuel Type'].astype('category')\n",
    "data['Transmission Type'] = data['Transmission Type'].astype('category')\n",
    "data['Driven_Wheels'] = data['Driven_Wheels'].astype('category')\n",
    "data['Market Category'] = data['Market Category'].astype('category')\n",
    "data['Vehicle Size'] = data['Vehicle Size'].astype('category')\n",
    "data['Vehicle Style'] = data['Vehicle Style'].astype('category')\n",
    "\n",
    "data['Vehicle Style'] = data['Vehicle Style'].astype('category')"
   ]
  },
  {
   "cell_type": "code",
   "execution_count": 397,
   "metadata": {},
   "outputs": [
    {
     "data": {
      "text/plain": [
       "Make                 category\n",
       "Model                category\n",
       "Year                    int64\n",
       "Engine Fuel Type     category\n",
       "Engine HP             float64\n",
       "Engine Cylinders      float64\n",
       "Transmission Type    category\n",
       "Driven_Wheels        category\n",
       "Number of Doors       float64\n",
       "Market Category      category\n",
       "Vehicle Size         category\n",
       "Vehicle Style        category\n",
       "highway MPG             int64\n",
       "city mpg                int64\n",
       "Popularity              int64\n",
       "MSRP                    int64\n",
       "dtype: object"
      ]
     },
     "execution_count": 397,
     "metadata": {},
     "output_type": "execute_result"
    }
   ],
   "source": [
    "data.dtypes"
   ]
  },
  {
   "cell_type": "markdown",
   "metadata": {},
   "source": [
    "### Доступ к отдельным элементам и выделение подтаблиц (slice)"
   ]
  },
  {
   "cell_type": "code",
   "execution_count": 398,
   "metadata": {},
   "outputs": [
    {
     "data": {
      "text/plain": [
       "'Coupe'"
      ]
     },
     "execution_count": 398,
     "metadata": {},
     "output_type": "execute_result"
    }
   ],
   "source": [
    "data.at [3, 'Vehicle Style']"
   ]
  },
  {
   "cell_type": "code",
   "execution_count": 399,
   "metadata": {},
   "outputs": [
    {
     "data": {
      "text/plain": [
       "6.0"
      ]
     },
     "execution_count": 399,
     "metadata": {},
     "output_type": "execute_result"
    }
   ],
   "source": [
    "data.iat [4,5]"
   ]
  },
  {
   "cell_type": "code",
   "execution_count": 400,
   "metadata": {},
   "outputs": [
    {
     "data": {
      "text/plain": [
       "0            BMW\n",
       "1            BMW\n",
       "2            BMW\n",
       "3            BMW\n",
       "4            BMW\n",
       "          ...   \n",
       "11909      Acura\n",
       "11910      Acura\n",
       "11911      Acura\n",
       "11912      Acura\n",
       "11913    Lincoln\n",
       "Name: Make, Length: 11914, dtype: category\n",
       "Categories (48, object): [Acura, Alfa Romeo, Aston Martin, Audi, ..., Tesla, Toyota, Volkswagen, Volvo]"
      ]
     },
     "execution_count": 400,
     "metadata": {},
     "output_type": "execute_result"
    }
   ],
   "source": [
    "data['Make']"
   ]
  },
  {
   "cell_type": "code",
   "execution_count": 401,
   "metadata": {},
   "outputs": [
    {
     "data": {
      "text/html": [
       "<div>\n",
       "<style scoped>\n",
       "    .dataframe tbody tr th:only-of-type {\n",
       "        vertical-align: middle;\n",
       "    }\n",
       "\n",
       "    .dataframe tbody tr th {\n",
       "        vertical-align: top;\n",
       "    }\n",
       "\n",
       "    .dataframe thead th {\n",
       "        text-align: right;\n",
       "    }\n",
       "</style>\n",
       "<table border=\"1\" class=\"dataframe\">\n",
       "  <thead>\n",
       "    <tr style=\"text-align: right;\">\n",
       "      <th></th>\n",
       "      <th>Make</th>\n",
       "      <th>Year</th>\n",
       "      <th>MSRP</th>\n",
       "    </tr>\n",
       "  </thead>\n",
       "  <tbody>\n",
       "    <tr>\n",
       "      <th>2</th>\n",
       "      <td>BMW</td>\n",
       "      <td>2011</td>\n",
       "      <td>36350</td>\n",
       "    </tr>\n",
       "    <tr>\n",
       "      <th>3</th>\n",
       "      <td>BMW</td>\n",
       "      <td>2011</td>\n",
       "      <td>29450</td>\n",
       "    </tr>\n",
       "    <tr>\n",
       "      <th>5</th>\n",
       "      <td>BMW</td>\n",
       "      <td>2012</td>\n",
       "      <td>31200</td>\n",
       "    </tr>\n",
       "    <tr>\n",
       "      <th>189</th>\n",
       "      <td>Mercedes-Benz</td>\n",
       "      <td>1993</td>\n",
       "      <td>2187</td>\n",
       "    </tr>\n",
       "    <tr>\n",
       "      <th>235</th>\n",
       "      <td>Chrysler</td>\n",
       "      <td>2003</td>\n",
       "      <td>32315</td>\n",
       "    </tr>\n",
       "  </tbody>\n",
       "</table>\n",
       "</div>"
      ],
      "text/plain": [
       "              Make  Year   MSRP\n",
       "2              BMW  2011  36350\n",
       "3              BMW  2011  29450\n",
       "5              BMW  2012  31200\n",
       "189  Mercedes-Benz  1993   2187\n",
       "235       Chrysler  2003  32315"
      ]
     },
     "execution_count": 401,
     "metadata": {},
     "output_type": "execute_result"
    }
   ],
   "source": [
    "data.loc[[2,3,5,189,235], ['Make', 'Year', 'MSRP']]"
   ]
  },
  {
   "cell_type": "code",
   "execution_count": 402,
   "metadata": {},
   "outputs": [
    {
     "data": {
      "text/html": [
       "<div>\n",
       "<style scoped>\n",
       "    .dataframe tbody tr th:only-of-type {\n",
       "        vertical-align: middle;\n",
       "    }\n",
       "\n",
       "    .dataframe tbody tr th {\n",
       "        vertical-align: top;\n",
       "    }\n",
       "\n",
       "    .dataframe thead th {\n",
       "        text-align: right;\n",
       "    }\n",
       "</style>\n",
       "<table border=\"1\" class=\"dataframe\">\n",
       "  <thead>\n",
       "    <tr style=\"text-align: right;\">\n",
       "      <th></th>\n",
       "      <th>Transmission Type</th>\n",
       "      <th>Vehicle Size</th>\n",
       "      <th>MSRP</th>\n",
       "    </tr>\n",
       "  </thead>\n",
       "  <tbody>\n",
       "    <tr>\n",
       "      <th>2</th>\n",
       "      <td>MANUAL</td>\n",
       "      <td>Compact</td>\n",
       "      <td>36350</td>\n",
       "    </tr>\n",
       "    <tr>\n",
       "      <th>3</th>\n",
       "      <td>MANUAL</td>\n",
       "      <td>Compact</td>\n",
       "      <td>29450</td>\n",
       "    </tr>\n",
       "    <tr>\n",
       "      <th>5</th>\n",
       "      <td>MANUAL</td>\n",
       "      <td>Compact</td>\n",
       "      <td>31200</td>\n",
       "    </tr>\n",
       "  </tbody>\n",
       "</table>\n",
       "</div>"
      ],
      "text/plain": [
       "  Transmission Type Vehicle Size   MSRP\n",
       "2            MANUAL      Compact  36350\n",
       "3            MANUAL      Compact  29450\n",
       "5            MANUAL      Compact  31200"
      ]
     },
     "execution_count": 402,
     "metadata": {},
     "output_type": "execute_result"
    }
   ],
   "source": [
    "data.iloc[[2,3,5], [6,10,15]]"
   ]
  },
  {
   "cell_type": "code",
   "execution_count": 403,
   "metadata": {},
   "outputs": [
    {
     "data": {
      "text/html": [
       "<div>\n",
       "<style scoped>\n",
       "    .dataframe tbody tr th:only-of-type {\n",
       "        vertical-align: middle;\n",
       "    }\n",
       "\n",
       "    .dataframe tbody tr th {\n",
       "        vertical-align: top;\n",
       "    }\n",
       "\n",
       "    .dataframe thead th {\n",
       "        text-align: right;\n",
       "    }\n",
       "</style>\n",
       "<table border=\"1\" class=\"dataframe\">\n",
       "  <thead>\n",
       "    <tr style=\"text-align: right;\">\n",
       "      <th></th>\n",
       "      <th>Make</th>\n",
       "      <th>Model</th>\n",
       "      <th>Year</th>\n",
       "      <th>Engine Fuel Type</th>\n",
       "      <th>Engine HP</th>\n",
       "      <th>Engine Cylinders</th>\n",
       "      <th>Transmission Type</th>\n",
       "      <th>Driven_Wheels</th>\n",
       "      <th>Number of Doors</th>\n",
       "      <th>Market Category</th>\n",
       "      <th>Vehicle Size</th>\n",
       "      <th>Vehicle Style</th>\n",
       "      <th>highway MPG</th>\n",
       "      <th>city mpg</th>\n",
       "      <th>Popularity</th>\n",
       "      <th>MSRP</th>\n",
       "    </tr>\n",
       "  </thead>\n",
       "  <tbody>\n",
       "    <tr>\n",
       "      <th>2</th>\n",
       "      <td>BMW</td>\n",
       "      <td>1 Series</td>\n",
       "      <td>2011</td>\n",
       "      <td>premium unleaded (required)</td>\n",
       "      <td>300.0</td>\n",
       "      <td>6.0</td>\n",
       "      <td>MANUAL</td>\n",
       "      <td>rear wheel drive</td>\n",
       "      <td>2.0</td>\n",
       "      <td>Luxury,High-Performance</td>\n",
       "      <td>Compact</td>\n",
       "      <td>Coupe</td>\n",
       "      <td>28</td>\n",
       "      <td>20</td>\n",
       "      <td>3916</td>\n",
       "      <td>36350</td>\n",
       "    </tr>\n",
       "    <tr>\n",
       "      <th>5</th>\n",
       "      <td>BMW</td>\n",
       "      <td>1 Series</td>\n",
       "      <td>2012</td>\n",
       "      <td>premium unleaded (required)</td>\n",
       "      <td>230.0</td>\n",
       "      <td>6.0</td>\n",
       "      <td>MANUAL</td>\n",
       "      <td>rear wheel drive</td>\n",
       "      <td>2.0</td>\n",
       "      <td>Luxury,Performance</td>\n",
       "      <td>Compact</td>\n",
       "      <td>Coupe</td>\n",
       "      <td>28</td>\n",
       "      <td>18</td>\n",
       "      <td>3916</td>\n",
       "      <td>31200</td>\n",
       "    </tr>\n",
       "  </tbody>\n",
       "</table>\n",
       "</div>"
      ],
      "text/plain": [
       "  Make     Model  Year             Engine Fuel Type  Engine HP  \\\n",
       "2  BMW  1 Series  2011  premium unleaded (required)      300.0   \n",
       "5  BMW  1 Series  2012  premium unleaded (required)      230.0   \n",
       "\n",
       "   Engine Cylinders Transmission Type     Driven_Wheels  Number of Doors  \\\n",
       "2               6.0            MANUAL  rear wheel drive              2.0   \n",
       "5               6.0            MANUAL  rear wheel drive              2.0   \n",
       "\n",
       "           Market Category Vehicle Size Vehicle Style  highway MPG  city mpg  \\\n",
       "2  Luxury,High-Performance      Compact         Coupe           28        20   \n",
       "5       Luxury,Performance      Compact         Coupe           28        18   \n",
       "\n",
       "   Popularity   MSRP  \n",
       "2        3916  36350  \n",
       "5        3916  31200  "
      ]
     },
     "execution_count": 403,
     "metadata": {},
     "output_type": "execute_result"
    }
   ],
   "source": [
    "data.loc[[2, 5], :]"
   ]
  },
  {
   "cell_type": "markdown",
   "metadata": {},
   "source": [
    "### Доступ по булевой маске"
   ]
  },
  {
   "cell_type": "code",
   "execution_count": 404,
   "metadata": {},
   "outputs": [
    {
     "data": {
      "text/html": [
       "<div>\n",
       "<style scoped>\n",
       "    .dataframe tbody tr th:only-of-type {\n",
       "        vertical-align: middle;\n",
       "    }\n",
       "\n",
       "    .dataframe tbody tr th {\n",
       "        vertical-align: top;\n",
       "    }\n",
       "\n",
       "    .dataframe thead th {\n",
       "        text-align: right;\n",
       "    }\n",
       "</style>\n",
       "<table border=\"1\" class=\"dataframe\">\n",
       "  <thead>\n",
       "    <tr style=\"text-align: right;\">\n",
       "      <th></th>\n",
       "      <th>Year</th>\n",
       "      <th>Engine Fuel Type</th>\n",
       "      <th>Engine HP</th>\n",
       "      <th>Engine Cylinders</th>\n",
       "      <th>Transmission Type</th>\n",
       "      <th>Driven_Wheels</th>\n",
       "      <th>Number of Doors</th>\n",
       "    </tr>\n",
       "  </thead>\n",
       "  <tbody>\n",
       "    <tr>\n",
       "      <th>0</th>\n",
       "      <td>2011</td>\n",
       "      <td>premium unleaded (required)</td>\n",
       "      <td>335.0</td>\n",
       "      <td>6.0</td>\n",
       "      <td>MANUAL</td>\n",
       "      <td>rear wheel drive</td>\n",
       "      <td>2.0</td>\n",
       "    </tr>\n",
       "    <tr>\n",
       "      <th>1</th>\n",
       "      <td>2011</td>\n",
       "      <td>premium unleaded (required)</td>\n",
       "      <td>300.0</td>\n",
       "      <td>6.0</td>\n",
       "      <td>MANUAL</td>\n",
       "      <td>rear wheel drive</td>\n",
       "      <td>2.0</td>\n",
       "    </tr>\n",
       "    <tr>\n",
       "      <th>2</th>\n",
       "      <td>2011</td>\n",
       "      <td>premium unleaded (required)</td>\n",
       "      <td>300.0</td>\n",
       "      <td>6.0</td>\n",
       "      <td>MANUAL</td>\n",
       "      <td>rear wheel drive</td>\n",
       "      <td>2.0</td>\n",
       "    </tr>\n",
       "    <tr>\n",
       "      <th>3</th>\n",
       "      <td>2011</td>\n",
       "      <td>premium unleaded (required)</td>\n",
       "      <td>230.0</td>\n",
       "      <td>6.0</td>\n",
       "      <td>MANUAL</td>\n",
       "      <td>rear wheel drive</td>\n",
       "      <td>2.0</td>\n",
       "    </tr>\n",
       "  </tbody>\n",
       "</table>\n",
       "</div>"
      ],
      "text/plain": [
       "   Year             Engine Fuel Type  Engine HP  Engine Cylinders  \\\n",
       "0  2011  premium unleaded (required)      335.0               6.0   \n",
       "1  2011  premium unleaded (required)      300.0               6.0   \n",
       "2  2011  premium unleaded (required)      300.0               6.0   \n",
       "3  2011  premium unleaded (required)      230.0               6.0   \n",
       "\n",
       "  Transmission Type     Driven_Wheels  Number of Doors  \n",
       "0            MANUAL  rear wheel drive              2.0  \n",
       "1            MANUAL  rear wheel drive              2.0  \n",
       "2            MANUAL  rear wheel drive              2.0  \n",
       "3            MANUAL  rear wheel drive              2.0  "
      ]
     },
     "execution_count": 404,
     "metadata": {},
     "output_type": "execute_result"
    }
   ],
   "source": [
    "df = data.iloc[:4, 2:9]\n",
    "df"
   ]
  },
  {
   "cell_type": "code",
   "execution_count": 405,
   "metadata": {},
   "outputs": [
    {
     "data": {
      "text/html": [
       "<div>\n",
       "<style scoped>\n",
       "    .dataframe tbody tr th:only-of-type {\n",
       "        vertical-align: middle;\n",
       "    }\n",
       "\n",
       "    .dataframe tbody tr th {\n",
       "        vertical-align: top;\n",
       "    }\n",
       "\n",
       "    .dataframe thead th {\n",
       "        text-align: right;\n",
       "    }\n",
       "</style>\n",
       "<table border=\"1\" class=\"dataframe\">\n",
       "  <thead>\n",
       "    <tr style=\"text-align: right;\">\n",
       "      <th></th>\n",
       "      <th>Engine Fuel Type</th>\n",
       "      <th>Engine HP</th>\n",
       "      <th>Engine Cylinders</th>\n",
       "      <th>Transmission Type</th>\n",
       "      <th>Driven_Wheels</th>\n",
       "    </tr>\n",
       "  </thead>\n",
       "  <tbody>\n",
       "    <tr>\n",
       "      <th>0</th>\n",
       "      <td>premium unleaded (required)</td>\n",
       "      <td>335.0</td>\n",
       "      <td>6.0</td>\n",
       "      <td>MANUAL</td>\n",
       "      <td>rear wheel drive</td>\n",
       "    </tr>\n",
       "    <tr>\n",
       "      <th>1</th>\n",
       "      <td>premium unleaded (required)</td>\n",
       "      <td>300.0</td>\n",
       "      <td>6.0</td>\n",
       "      <td>MANUAL</td>\n",
       "      <td>rear wheel drive</td>\n",
       "    </tr>\n",
       "    <tr>\n",
       "      <th>3</th>\n",
       "      <td>premium unleaded (required)</td>\n",
       "      <td>230.0</td>\n",
       "      <td>6.0</td>\n",
       "      <td>MANUAL</td>\n",
       "      <td>rear wheel drive</td>\n",
       "    </tr>\n",
       "  </tbody>\n",
       "</table>\n",
       "</div>"
      ],
      "text/plain": [
       "              Engine Fuel Type  Engine HP  Engine Cylinders Transmission Type  \\\n",
       "0  premium unleaded (required)      335.0               6.0            MANUAL   \n",
       "1  premium unleaded (required)      300.0               6.0            MANUAL   \n",
       "3  premium unleaded (required)      230.0               6.0            MANUAL   \n",
       "\n",
       "      Driven_Wheels  \n",
       "0  rear wheel drive  \n",
       "1  rear wheel drive  \n",
       "3  rear wheel drive  "
      ]
     },
     "execution_count": 405,
     "metadata": {},
     "output_type": "execute_result"
    }
   ],
   "source": [
    "df.loc[[True, True, False, True], [False, True, True, True, True, True, False]]"
   ]
  },
  {
   "cell_type": "code",
   "execution_count": 406,
   "metadata": {},
   "outputs": [
    {
     "data": {
      "text/html": [
       "<div>\n",
       "<style scoped>\n",
       "    .dataframe tbody tr th:only-of-type {\n",
       "        vertical-align: middle;\n",
       "    }\n",
       "\n",
       "    .dataframe tbody tr th {\n",
       "        vertical-align: top;\n",
       "    }\n",
       "\n",
       "    .dataframe thead th {\n",
       "        text-align: right;\n",
       "    }\n",
       "</style>\n",
       "<table border=\"1\" class=\"dataframe\">\n",
       "  <thead>\n",
       "    <tr style=\"text-align: right;\">\n",
       "      <th></th>\n",
       "      <th>Year</th>\n",
       "      <th>Engine Fuel Type</th>\n",
       "      <th>Engine HP</th>\n",
       "      <th>Engine Cylinders</th>\n",
       "      <th>Transmission Type</th>\n",
       "      <th>Driven_Wheels</th>\n",
       "      <th>Number of Doors</th>\n",
       "    </tr>\n",
       "  </thead>\n",
       "  <tbody>\n",
       "    <tr>\n",
       "      <th>1</th>\n",
       "      <td>2011</td>\n",
       "      <td>premium unleaded (required)</td>\n",
       "      <td>300.0</td>\n",
       "      <td>6.0</td>\n",
       "      <td>MANUAL</td>\n",
       "      <td>rear wheel drive</td>\n",
       "      <td>2.0</td>\n",
       "    </tr>\n",
       "    <tr>\n",
       "      <th>3</th>\n",
       "      <td>2011</td>\n",
       "      <td>premium unleaded (required)</td>\n",
       "      <td>230.0</td>\n",
       "      <td>6.0</td>\n",
       "      <td>MANUAL</td>\n",
       "      <td>rear wheel drive</td>\n",
       "      <td>2.0</td>\n",
       "    </tr>\n",
       "  </tbody>\n",
       "</table>\n",
       "</div>"
      ],
      "text/plain": [
       "   Year             Engine Fuel Type  Engine HP  Engine Cylinders  \\\n",
       "1  2011  premium unleaded (required)      300.0               6.0   \n",
       "3  2011  premium unleaded (required)      230.0               6.0   \n",
       "\n",
       "  Transmission Type     Driven_Wheels  Number of Doors  \n",
       "1            MANUAL  rear wheel drive              2.0  \n",
       "3            MANUAL  rear wheel drive              2.0  "
      ]
     },
     "execution_count": 406,
     "metadata": {},
     "output_type": "execute_result"
    }
   ],
   "source": [
    "df[[False, True, False, True]]"
   ]
  },
  {
   "cell_type": "code",
   "execution_count": 407,
   "metadata": {},
   "outputs": [
    {
     "data": {
      "text/html": [
       "<div>\n",
       "<style scoped>\n",
       "    .dataframe tbody tr th:only-of-type {\n",
       "        vertical-align: middle;\n",
       "    }\n",
       "\n",
       "    .dataframe tbody tr th {\n",
       "        vertical-align: top;\n",
       "    }\n",
       "\n",
       "    .dataframe thead th {\n",
       "        text-align: right;\n",
       "    }\n",
       "</style>\n",
       "<table border=\"1\" class=\"dataframe\">\n",
       "  <thead>\n",
       "    <tr style=\"text-align: right;\">\n",
       "      <th></th>\n",
       "      <th>Year</th>\n",
       "      <th>Engine Fuel Type</th>\n",
       "      <th>Engine HP</th>\n",
       "      <th>Engine Cylinders</th>\n",
       "      <th>Transmission Type</th>\n",
       "      <th>Driven_Wheels</th>\n",
       "      <th>Number of Doors</th>\n",
       "    </tr>\n",
       "  </thead>\n",
       "  <tbody>\n",
       "    <tr>\n",
       "      <th>0</th>\n",
       "      <td>2011</td>\n",
       "      <td>premium unleaded (required)</td>\n",
       "      <td>335.0</td>\n",
       "      <td>6.0</td>\n",
       "      <td>MANUAL</td>\n",
       "      <td>rear wheel drive</td>\n",
       "      <td>2.0</td>\n",
       "    </tr>\n",
       "    <tr>\n",
       "      <th>1</th>\n",
       "      <td>2011</td>\n",
       "      <td>premium unleaded (required)</td>\n",
       "      <td>300.0</td>\n",
       "      <td>6.0</td>\n",
       "      <td>MANUAL</td>\n",
       "      <td>rear wheel drive</td>\n",
       "      <td>2.0</td>\n",
       "    </tr>\n",
       "    <tr>\n",
       "      <th>2</th>\n",
       "      <td>2011</td>\n",
       "      <td>premium unleaded (required)</td>\n",
       "      <td>300.0</td>\n",
       "      <td>6.0</td>\n",
       "      <td>MANUAL</td>\n",
       "      <td>rear wheel drive</td>\n",
       "      <td>2.0</td>\n",
       "    </tr>\n",
       "    <tr>\n",
       "      <th>3</th>\n",
       "      <td>2011</td>\n",
       "      <td>premium unleaded (required)</td>\n",
       "      <td>230.0</td>\n",
       "      <td>6.0</td>\n",
       "      <td>MANUAL</td>\n",
       "      <td>rear wheel drive</td>\n",
       "      <td>2.0</td>\n",
       "    </tr>\n",
       "  </tbody>\n",
       "</table>\n",
       "</div>"
      ],
      "text/plain": [
       "   Year             Engine Fuel Type  Engine HP  Engine Cylinders  \\\n",
       "0  2011  premium unleaded (required)      335.0               6.0   \n",
       "1  2011  premium unleaded (required)      300.0               6.0   \n",
       "2  2011  premium unleaded (required)      300.0               6.0   \n",
       "3  2011  premium unleaded (required)      230.0               6.0   \n",
       "\n",
       "  Transmission Type     Driven_Wheels  Number of Doors  \n",
       "0            MANUAL  rear wheel drive              2.0  \n",
       "1            MANUAL  rear wheel drive              2.0  \n",
       "2            MANUAL  rear wheel drive              2.0  \n",
       "3            MANUAL  rear wheel drive              2.0  "
      ]
     },
     "execution_count": 407,
     "metadata": {},
     "output_type": "execute_result"
    }
   ],
   "source": [
    "df.loc[df.Year  == 2011, ]"
   ]
  },
  {
   "cell_type": "markdown",
   "metadata": {},
   "source": [
    "## 2. Боремся с выбросами (outliers)\n",
    "\n",
    "Понятно, что количество цилиндров зависит от количества лошадиных сил двигателя.\n",
    "Построим поэтому диаграмму рассеивания для двух признаков: `Engine HP` и `Engine Cylinders`.\n"
   ]
  },
  {
   "cell_type": "code",
   "execution_count": 408,
   "metadata": {},
   "outputs": [
    {
     "data": {
      "image/png": "[encoded data removed]",
      "text/plain": [
       "<Figure size 432x288 with 1 Axes>"
      ]
     },
     "metadata": {
      "needs_background": "light"
     },
     "output_type": "display_data"
    }
   ],
   "source": [
    "plt.scatter(data['Engine HP'], data['Engine Cylinders'])\n",
    "pass"
   ]
  },
  {
   "cell_type": "code",
   "execution_count": 409,
   "metadata": {},
   "outputs": [
    {
     "data": {
      "text/plain": [
       "16.0"
      ]
     },
     "execution_count": 409,
     "metadata": {},
     "output_type": "execute_result"
    }
   ],
   "source": [
    "data['Engine Cylinders'].max()"
   ]
  },
  {
   "cell_type": "code",
   "execution_count": 410,
   "metadata": {},
   "outputs": [
    {
     "data": {
      "text/plain": [
       "0.0"
      ]
     },
     "execution_count": 410,
     "metadata": {},
     "output_type": "execute_result"
    }
   ],
   "source": [
    "data['Engine Cylinders'].min()"
   ]
  },
  {
   "cell_type": "code",
   "execution_count": 411,
   "metadata": {},
   "outputs": [
    {
     "data": {
      "text/plain": [
       "1001.0"
      ]
     },
     "execution_count": 411,
     "metadata": {},
     "output_type": "execute_result"
    }
   ],
   "source": [
    "data['Engine HP'].max()"
   ]
  },
  {
   "cell_type": "code",
   "execution_count": 412,
   "metadata": {},
   "outputs": [
    {
     "data": {
      "text/plain": [
       "55.0"
      ]
     },
     "execution_count": 412,
     "metadata": {},
     "output_type": "execute_result"
    }
   ],
   "source": [
    "data['Engine HP'].min()"
   ]
  },
  {
   "cell_type": "markdown",
   "metadata": {},
   "source": [
    "Мы видим точки соответствующие машинам с чрезмерно большим количеством цилиндров и чрезмерно большим количеством лошадиных сил двигателя. Например, более 14 цилиндров и более 1000 л.c. Это *выбросы* (*outliers*) - объекты, значения признаков которых сильно отличаются от признаков основной массы объектов, сильно выпадающих из общей картины. Возможно, это ошибки в данных. В любом случае выбросы, как правило, мешают построить хорошее решающее правило и их рекомендуется выбрасывать.\n",
    "\n",
    "Для обнаружения выбросов найдем, например, квантили для признаков `Engine Cylinders` и `Engine HP`:"
   ]
  },
  {
   "cell_type": "code",
   "execution_count": 413,
   "metadata": {},
   "outputs": [
    {
     "data": {
      "text/plain": [
       "0.005     3.0\n",
       "0.010     4.0\n",
       "0.050     4.0\n",
       "0.100     4.0\n",
       "0.500     6.0\n",
       "0.900     8.0\n",
       "0.950     8.0\n",
       "0.990    12.0\n",
       "0.995    12.0\n",
       "Name: Engine Cylinders, dtype: float64"
      ]
     },
     "execution_count": 413,
     "metadata": {},
     "output_type": "execute_result"
    }
   ],
   "source": [
    "data['Engine Cylinders'].quantile([0.005,.01,.05,.1,.5,.9,.95,.99,.995])"
   ]
  },
  {
   "cell_type": "markdown",
   "metadata": {},
   "source": [
    "Мы видим, например, что  99.9%  всех значений признака 'Engine Cylinders' находится в диапазоне от  3.0  до 12.0 (это значения квантилей, соответствующих уровням  0.005  и  0.995  соотвтетственно)"
   ]
  },
  {
   "cell_type": "code",
   "execution_count": 414,
   "metadata": {},
   "outputs": [
    {
     "data": {
      "text/plain": [
       "0.005     79.0\n",
       "0.010     90.0\n",
       "0.050    118.0\n",
       "0.100    138.0\n",
       "0.500    227.0\n",
       "0.900    385.0\n",
       "0.950    460.0\n",
       "0.990    620.0\n",
       "0.995    645.0\n",
       "Name: Engine HP, dtype: float64"
      ]
     },
     "execution_count": 414,
     "metadata": {},
     "output_type": "execute_result"
    }
   ],
   "source": [
    "data['Engine HP'].quantile([0.005,.01,.05,.1,.5,.9,.95,.99,.995])"
   ]
  },
  {
   "cell_type": "markdown",
   "metadata": {},
   "source": [
    "Мы видим, например, что $99.9\\%$ всех значений признака `'Engine HP'` находится в диапазоне от $79.0$ до $645.0$ л.с. (это значения квантилей, соответствующих уровням $0.005$ и $0.995$ соотвтетственно)"
   ]
  },
  {
   "cell_type": "code",
   "execution_count": 415,
   "metadata": {},
   "outputs": [
    {
     "data": {
      "text/plain": [
       "(11744, 16)"
      ]
     },
     "execution_count": 415,
     "metadata": {},
     "output_type": "execute_result"
    }
   ],
   "source": [
    "rows_to_drop = data[\n",
    "    (data['Engine HP'] < data['Engine HP'].quantile(0.005)) | (data['Engine HP'] > data['Engine HP'].quantile(0.995)) | \n",
    "    (data['Engine Cylinders']  < data['Engine Cylinders' ].quantile(0.005)) | (data['Engine Cylinders']  > data['Engine Cylinders' ].quantile(0.995))].index\n",
    "data = data.drop(rows_to_drop)\n",
    "data.shape"
   ]
  },
  {
   "cell_type": "code",
   "execution_count": 416,
   "metadata": {},
   "outputs": [
    {
     "data": {
      "text/plain": [
       "Int64Index([  539,   540,   541,   622,  1469,  1470,  1471,  1472,  1473,\n",
       "             1474,\n",
       "            ...\n",
       "             9854,  9867,  9868,  9869,  9870,  9871,  9872, 11362, 11363,\n",
       "            11364],\n",
       "           dtype='int64', length=170)"
      ]
     },
     "execution_count": 416,
     "metadata": {},
     "output_type": "execute_result"
    }
   ],
   "source": [
    "rows_to_drop"
   ]
  },
  {
   "cell_type": "markdown",
   "metadata": {},
   "source": [
    "Мы избавились от 170 выбросов."
   ]
  },
  {
   "cell_type": "markdown",
   "metadata": {},
   "source": [
    "## 3. Визуализация и описательная статистика"
   ]
  },
  {
   "cell_type": "markdown",
   "metadata": {},
   "source": [
    "Визуализация и описательная статистика - важные этапы анализа данных.\n",
    "Сводную информацию о признаках можем получить, вызвав метод `describe`:"
   ]
  },
  {
   "cell_type": "code",
   "execution_count": 417,
   "metadata": {},
   "outputs": [
    {
     "data": {
      "text/html": [
       "<div>\n",
       "<style scoped>\n",
       "    .dataframe tbody tr th:only-of-type {\n",
       "        vertical-align: middle;\n",
       "    }\n",
       "\n",
       "    .dataframe tbody tr th {\n",
       "        vertical-align: top;\n",
       "    }\n",
       "\n",
       "    .dataframe thead th {\n",
       "        text-align: right;\n",
       "    }\n",
       "</style>\n",
       "<table border=\"1\" class=\"dataframe\">\n",
       "  <thead>\n",
       "    <tr style=\"text-align: right;\">\n",
       "      <th></th>\n",
       "      <th>Year</th>\n",
       "      <th>Engine HP</th>\n",
       "      <th>Engine Cylinders</th>\n",
       "      <th>Number of Doors</th>\n",
       "      <th>highway MPG</th>\n",
       "      <th>city mpg</th>\n",
       "      <th>Popularity</th>\n",
       "      <th>MSRP</th>\n",
       "    </tr>\n",
       "  </thead>\n",
       "  <tbody>\n",
       "    <tr>\n",
       "      <th>count</th>\n",
       "      <td>11744.000000</td>\n",
       "      <td>11718.000000</td>\n",
       "      <td>11716.000000</td>\n",
       "      <td>11744.000000</td>\n",
       "      <td>11744.000000</td>\n",
       "      <td>11744.000000</td>\n",
       "      <td>11744.000000</td>\n",
       "      <td>1.174400e+04</td>\n",
       "    </tr>\n",
       "    <tr>\n",
       "      <th>mean</th>\n",
       "      <td>2010.391349</td>\n",
       "      <td>248.296552</td>\n",
       "      <td>5.645442</td>\n",
       "      <td>3.442524</td>\n",
       "      <td>26.261325</td>\n",
       "      <td>19.262602</td>\n",
       "      <td>1551.111546</td>\n",
       "      <td>3.937409e+04</td>\n",
       "    </tr>\n",
       "    <tr>\n",
       "      <th>std</th>\n",
       "      <td>7.549701</td>\n",
       "      <td>104.471822</td>\n",
       "      <td>1.709534</td>\n",
       "      <td>0.877841</td>\n",
       "      <td>7.218922</td>\n",
       "      <td>6.131782</td>\n",
       "      <td>1439.350064</td>\n",
       "      <td>4.917091e+04</td>\n",
       "    </tr>\n",
       "    <tr>\n",
       "      <th>min</th>\n",
       "      <td>1990.000000</td>\n",
       "      <td>79.000000</td>\n",
       "      <td>3.000000</td>\n",
       "      <td>2.000000</td>\n",
       "      <td>12.000000</td>\n",
       "      <td>8.000000</td>\n",
       "      <td>2.000000</td>\n",
       "      <td>2.000000e+03</td>\n",
       "    </tr>\n",
       "    <tr>\n",
       "      <th>25%</th>\n",
       "      <td>2007.000000</td>\n",
       "      <td>170.000000</td>\n",
       "      <td>4.000000</td>\n",
       "      <td>2.000000</td>\n",
       "      <td>22.000000</td>\n",
       "      <td>16.000000</td>\n",
       "      <td>549.000000</td>\n",
       "      <td>2.106500e+04</td>\n",
       "    </tr>\n",
       "    <tr>\n",
       "      <th>50%</th>\n",
       "      <td>2015.000000</td>\n",
       "      <td>227.000000</td>\n",
       "      <td>6.000000</td>\n",
       "      <td>4.000000</td>\n",
       "      <td>26.000000</td>\n",
       "      <td>18.000000</td>\n",
       "      <td>1385.000000</td>\n",
       "      <td>2.998250e+04</td>\n",
       "    </tr>\n",
       "    <tr>\n",
       "      <th>75%</th>\n",
       "      <td>2016.000000</td>\n",
       "      <td>300.000000</td>\n",
       "      <td>6.000000</td>\n",
       "      <td>4.000000</td>\n",
       "      <td>30.000000</td>\n",
       "      <td>22.000000</td>\n",
       "      <td>2009.000000</td>\n",
       "      <td>4.200250e+04</td>\n",
       "    </tr>\n",
       "    <tr>\n",
       "      <th>max</th>\n",
       "      <td>2017.000000</td>\n",
       "      <td>645.000000</td>\n",
       "      <td>12.000000</td>\n",
       "      <td>4.000000</td>\n",
       "      <td>354.000000</td>\n",
       "      <td>128.000000</td>\n",
       "      <td>5657.000000</td>\n",
       "      <td>1.382750e+06</td>\n",
       "    </tr>\n",
       "  </tbody>\n",
       "</table>\n",
       "</div>"
      ],
      "text/plain": [
       "               Year     Engine HP  Engine Cylinders  Number of Doors  \\\n",
       "count  11744.000000  11718.000000      11716.000000     11744.000000   \n",
       "mean    2010.391349    248.296552          5.645442         3.442524   \n",
       "std        7.549701    104.471822          1.709534         0.877841   \n",
       "min     1990.000000     79.000000          3.000000         2.000000   \n",
       "25%     2007.000000    170.000000          4.000000         2.000000   \n",
       "50%     2015.000000    227.000000          6.000000         4.000000   \n",
       "75%     2016.000000    300.000000          6.000000         4.000000   \n",
       "max     2017.000000    645.000000         12.000000         4.000000   \n",
       "\n",
       "        highway MPG      city mpg    Popularity          MSRP  \n",
       "count  11744.000000  11744.000000  11744.000000  1.174400e+04  \n",
       "mean      26.261325     19.262602   1551.111546  3.937409e+04  \n",
       "std        7.218922      6.131782   1439.350064  4.917091e+04  \n",
       "min       12.000000      8.000000      2.000000  2.000000e+03  \n",
       "25%       22.000000     16.000000    549.000000  2.106500e+04  \n",
       "50%       26.000000     18.000000   1385.000000  2.998250e+04  \n",
       "75%       30.000000     22.000000   2009.000000  4.200250e+04  \n",
       "max      354.000000    128.000000   5657.000000  1.382750e+06  "
      ]
     },
     "execution_count": 417,
     "metadata": {},
     "output_type": "execute_result"
    }
   ],
   "source": [
    "data.describe()"
   ]
  },
  {
   "cell_type": "markdown",
   "metadata": {},
   "source": [
    "Для каждого количественного признака приведены средние значения, стандартное отклонение, минимальное и макимальное значения, медиана и значения квартилей.\n",
    "\n",
    "По умолчанию этот метод дает информацию только о количественных признаках. Получим информацию о категориальных:"
   ]
  },
  {
   "cell_type": "code",
   "execution_count": 418,
   "metadata": {},
   "outputs": [
    {
     "data": {
      "text/html": [
       "<div>\n",
       "<style scoped>\n",
       "    .dataframe tbody tr th:only-of-type {\n",
       "        vertical-align: middle;\n",
       "    }\n",
       "\n",
       "    .dataframe tbody tr th {\n",
       "        vertical-align: top;\n",
       "    }\n",
       "\n",
       "    .dataframe thead th {\n",
       "        text-align: right;\n",
       "    }\n",
       "</style>\n",
       "<table border=\"1\" class=\"dataframe\">\n",
       "  <thead>\n",
       "    <tr style=\"text-align: right;\">\n",
       "      <th></th>\n",
       "      <th>Make</th>\n",
       "      <th>Model</th>\n",
       "      <th>Engine Fuel Type</th>\n",
       "      <th>Transmission Type</th>\n",
       "      <th>Driven_Wheels</th>\n",
       "      <th>Market Category</th>\n",
       "      <th>Vehicle Size</th>\n",
       "      <th>Vehicle Style</th>\n",
       "    </tr>\n",
       "  </thead>\n",
       "  <tbody>\n",
       "    <tr>\n",
       "      <th>count</th>\n",
       "      <td>11744</td>\n",
       "      <td>11744</td>\n",
       "      <td>11741</td>\n",
       "      <td>11744</td>\n",
       "      <td>11744</td>\n",
       "      <td>8023</td>\n",
       "      <td>11744</td>\n",
       "      <td>11744</td>\n",
       "    </tr>\n",
       "    <tr>\n",
       "      <th>unique</th>\n",
       "      <td>46</td>\n",
       "      <td>894</td>\n",
       "      <td>10</td>\n",
       "      <td>5</td>\n",
       "      <td>4</td>\n",
       "      <td>70</td>\n",
       "      <td>3</td>\n",
       "      <td>16</td>\n",
       "    </tr>\n",
       "    <tr>\n",
       "      <th>top</th>\n",
       "      <td>Chevrolet</td>\n",
       "      <td>Silverado 1500</td>\n",
       "      <td>regular unleaded</td>\n",
       "      <td>AUTOMATIC</td>\n",
       "      <td>front wheel drive</td>\n",
       "      <td>Crossover</td>\n",
       "      <td>Compact</td>\n",
       "      <td>Sedan</td>\n",
       "    </tr>\n",
       "    <tr>\n",
       "      <th>freq</th>\n",
       "      <td>1095</td>\n",
       "      <td>156</td>\n",
       "      <td>7115</td>\n",
       "      <td>8250</td>\n",
       "      <td>4704</td>\n",
       "      <td>1108</td>\n",
       "      <td>4645</td>\n",
       "      <td>3021</td>\n",
       "    </tr>\n",
       "  </tbody>\n",
       "</table>\n",
       "</div>"
      ],
      "text/plain": [
       "             Make           Model  Engine Fuel Type Transmission Type  \\\n",
       "count       11744           11744             11741             11744   \n",
       "unique         46             894                10                 5   \n",
       "top     Chevrolet  Silverado 1500  regular unleaded         AUTOMATIC   \n",
       "freq         1095             156              7115              8250   \n",
       "\n",
       "            Driven_Wheels Market Category Vehicle Size Vehicle Style  \n",
       "count               11744            8023        11744         11744  \n",
       "unique                  4              70            3            16  \n",
       "top     front wheel drive       Crossover      Compact         Sedan  \n",
       "freq                 4704            1108         4645          3021  "
      ]
     },
     "execution_count": 418,
     "metadata": {},
     "output_type": "execute_result"
    }
   ],
   "source": [
    "data.describe(include=['category'])"
   ]
  },
  {
   "cell_type": "markdown",
   "metadata": {},
   "source": [
    "### Построим все возможные диаграммы рассеивания для каждой пары переменных:"
   ]
  },
  {
   "cell_type": "code",
   "execution_count": 419,
   "metadata": {},
   "outputs": [
    {
     "data": {
      "image/png": "[encoded data removed]",
      "text/plain": [
       "<Figure size 720x720 with 64 Axes>"
      ]
     },
     "metadata": {
      "needs_background": "light"
     },
     "output_type": "display_data"
    }
   ],
   "source": [
    "from pandas.plotting import scatter_matrix\n",
    "scatter_matrix(data, alpha = .01, figsize = (10, 10))\n",
    "pass"
   ]
  },
  {
   "cell_type": "code",
   "execution_count": 420,
   "metadata": {},
   "outputs": [
    {
     "data": {
      "image/png": "[encoded data removed]",
      "text/plain": [
       "<Figure size 432x288 with 1 Axes>"
      ]
     },
     "metadata": {
      "needs_background": "light"
     },
     "output_type": "display_data"
    }
   ],
   "source": [
    "sns.distplot(data['MSRP'], bins=30)\n",
    "plt.grid()\n",
    "plt.title('Распределение цен')\n",
    "pass"
   ]
  },
  {
   "cell_type": "code",
   "execution_count": 421,
   "metadata": {},
   "outputs": [
    {
     "data": {
      "image/png": "[encoded data removed]",
      "text/plain": [
       "<Figure size 432x288 with 1 Axes>"
      ]
     },
     "metadata": {
      "needs_background": "light"
     },
     "output_type": "display_data"
    }
   ],
   "source": [
    "sns.distplot(data['Engine HP'], bins = 15)\n",
    "pass"
   ]
  },
  {
   "cell_type": "code",
   "execution_count": 422,
   "metadata": {},
   "outputs": [
    {
     "data": {
      "image/png": "[encoded data removed]",
      "text/plain": [
       "<Figure size 432x288 with 1 Axes>"
      ]
     },
     "metadata": {
      "needs_background": "light"
     },
     "output_type": "display_data"
    }
   ],
   "source": [
    "sns.distplot(data['Year'], bins = 15)\n",
    "pass"
   ]
  },
  {
   "cell_type": "code",
   "execution_count": 423,
   "metadata": {},
   "outputs": [
    {
     "data": {
      "image/png": "[encoded data removed]",
      "text/plain": [
       "<Figure size 432x288 with 1 Axes>"
      ]
     },
     "metadata": {
      "needs_background": "light"
     },
     "output_type": "display_data"
    }
   ],
   "source": [
    "sns.distplot(data['Engine Cylinders'], bins = 15)\n",
    "pass"
   ]
  },
  {
   "cell_type": "markdown",
   "metadata": {},
   "source": [
    "### Ящик с усами"
   ]
  },
  {
   "cell_type": "code",
   "execution_count": 424,
   "metadata": {},
   "outputs": [
    {
     "data": {
      "image/png": "[encoded data removed]",
      "text/plain": [
       "<Figure size 432x288 with 1 Axes>"
      ]
     },
     "metadata": {
      "needs_background": "light"
     },
     "output_type": "display_data"
    }
   ],
   "source": [
    "sns.boxplot(x=\"Engine Cylinders\", y=\"MSRP\", data=data)\n",
    "pass"
   ]
  },
  {
   "cell_type": "markdown",
   "metadata": {},
   "source": [
    "### Скрипичный график"
   ]
  },
  {
   "cell_type": "code",
   "execution_count": 425,
   "metadata": {},
   "outputs": [
    {
     "data": {
      "image/png": "[encoded data removed]",
      "text/plain": [
       "<Figure size 432x288 with 1 Axes>"
      ]
     },
     "metadata": {
      "needs_background": "light"
     },
     "output_type": "display_data"
    }
   ],
   "source": [
    "sns.violinplot(x=\"Engine Cylinders\", y=\"MSRP\", data=data)\n",
    "pass"
   ]
  },
  {
   "cell_type": "markdown",
   "metadata": {},
   "source": [
    "### Корреляционная матрица"
   ]
  },
  {
   "cell_type": "code",
   "execution_count": 426,
   "metadata": {},
   "outputs": [
    {
     "data": {
      "text/html": [
       "<div>\n",
       "<style scoped>\n",
       "    .dataframe tbody tr th:only-of-type {\n",
       "        vertical-align: middle;\n",
       "    }\n",
       "\n",
       "    .dataframe tbody tr th {\n",
       "        vertical-align: top;\n",
       "    }\n",
       "\n",
       "    .dataframe thead th {\n",
       "        text-align: right;\n",
       "    }\n",
       "</style>\n",
       "<table border=\"1\" class=\"dataframe\">\n",
       "  <thead>\n",
       "    <tr style=\"text-align: right;\">\n",
       "      <th></th>\n",
       "      <th>Year</th>\n",
       "      <th>Engine HP</th>\n",
       "      <th>Engine Cylinders</th>\n",
       "      <th>Number of Doors</th>\n",
       "      <th>highway MPG</th>\n",
       "      <th>city mpg</th>\n",
       "      <th>Popularity</th>\n",
       "      <th>MSRP</th>\n",
       "    </tr>\n",
       "  </thead>\n",
       "  <tbody>\n",
       "    <tr>\n",
       "      <th>Year</th>\n",
       "      <td>1.000000</td>\n",
       "      <td>0.352688</td>\n",
       "      <td>-0.045805</td>\n",
       "      <td>0.262884</td>\n",
       "      <td>0.298891</td>\n",
       "      <td>0.257351</td>\n",
       "      <td>0.077658</td>\n",
       "      <td>0.273445</td>\n",
       "    </tr>\n",
       "    <tr>\n",
       "      <th>Engine HP</th>\n",
       "      <td>0.352688</td>\n",
       "      <td>1.000000</td>\n",
       "      <td>0.775016</td>\n",
       "      <td>-0.083212</td>\n",
       "      <td>-0.414849</td>\n",
       "      <td>-0.485703</td>\n",
       "      <td>0.037429</td>\n",
       "      <td>0.707393</td>\n",
       "    </tr>\n",
       "    <tr>\n",
       "      <th>Engine Cylinders</th>\n",
       "      <td>-0.045805</td>\n",
       "      <td>0.775016</td>\n",
       "      <td>1.000000</td>\n",
       "      <td>-0.125037</td>\n",
       "      <td>-0.622579</td>\n",
       "      <td>-0.684134</td>\n",
       "      <td>0.045744</td>\n",
       "      <td>0.566808</td>\n",
       "    </tr>\n",
       "    <tr>\n",
       "      <th>Number of Doors</th>\n",
       "      <td>0.262884</td>\n",
       "      <td>-0.083212</td>\n",
       "      <td>-0.125037</td>\n",
       "      <td>1.000000</td>\n",
       "      <td>0.118669</td>\n",
       "      <td>0.138354</td>\n",
       "      <td>-0.045967</td>\n",
       "      <td>-0.116363</td>\n",
       "    </tr>\n",
       "    <tr>\n",
       "      <th>highway MPG</th>\n",
       "      <td>0.298891</td>\n",
       "      <td>-0.414849</td>\n",
       "      <td>-0.622579</td>\n",
       "      <td>0.118669</td>\n",
       "      <td>1.000000</td>\n",
       "      <td>0.837596</td>\n",
       "      <td>-0.038812</td>\n",
       "      <td>-0.207681</td>\n",
       "    </tr>\n",
       "    <tr>\n",
       "      <th>city mpg</th>\n",
       "      <td>0.257351</td>\n",
       "      <td>-0.485703</td>\n",
       "      <td>-0.684134</td>\n",
       "      <td>0.138354</td>\n",
       "      <td>0.837596</td>\n",
       "      <td>1.000000</td>\n",
       "      <td>-0.024486</td>\n",
       "      <td>-0.246734</td>\n",
       "    </tr>\n",
       "    <tr>\n",
       "      <th>Popularity</th>\n",
       "      <td>0.077658</td>\n",
       "      <td>0.037429</td>\n",
       "      <td>0.045744</td>\n",
       "      <td>-0.045967</td>\n",
       "      <td>-0.038812</td>\n",
       "      <td>-0.024486</td>\n",
       "      <td>1.000000</td>\n",
       "      <td>-0.055342</td>\n",
       "    </tr>\n",
       "    <tr>\n",
       "      <th>MSRP</th>\n",
       "      <td>0.273445</td>\n",
       "      <td>0.707393</td>\n",
       "      <td>0.566808</td>\n",
       "      <td>-0.116363</td>\n",
       "      <td>-0.207681</td>\n",
       "      <td>-0.246734</td>\n",
       "      <td>-0.055342</td>\n",
       "      <td>1.000000</td>\n",
       "    </tr>\n",
       "  </tbody>\n",
       "</table>\n",
       "</div>"
      ],
      "text/plain": [
       "                      Year  Engine HP  Engine Cylinders  Number of Doors  \\\n",
       "Year              1.000000   0.352688         -0.045805         0.262884   \n",
       "Engine HP         0.352688   1.000000          0.775016        -0.083212   \n",
       "Engine Cylinders -0.045805   0.775016          1.000000        -0.125037   \n",
       "Number of Doors   0.262884  -0.083212         -0.125037         1.000000   \n",
       "highway MPG       0.298891  -0.414849         -0.622579         0.118669   \n",
       "city mpg          0.257351  -0.485703         -0.684134         0.138354   \n",
       "Popularity        0.077658   0.037429          0.045744        -0.045967   \n",
       "MSRP              0.273445   0.707393          0.566808        -0.116363   \n",
       "\n",
       "                  highway MPG  city mpg  Popularity      MSRP  \n",
       "Year                 0.298891  0.257351    0.077658  0.273445  \n",
       "Engine HP           -0.414849 -0.485703    0.037429  0.707393  \n",
       "Engine Cylinders    -0.622579 -0.684134    0.045744  0.566808  \n",
       "Number of Doors      0.118669  0.138354   -0.045967 -0.116363  \n",
       "highway MPG          1.000000  0.837596   -0.038812 -0.207681  \n",
       "city mpg             0.837596  1.000000   -0.024486 -0.246734  \n",
       "Popularity          -0.038812 -0.024486    1.000000 -0.055342  \n",
       "MSRP                -0.207681 -0.246734   -0.055342  1.000000  "
      ]
     },
     "execution_count": 426,
     "metadata": {},
     "output_type": "execute_result"
    }
   ],
   "source": [
    "corr_mat = data.corr()\n",
    "corr_mat"
   ]
  },
  {
   "cell_type": "markdown",
   "metadata": {},
   "source": [
    "Удобно использовать визуальный образ этой матрицы. Чем светлее ячейка, тем больше по абсолютной величине коэффициент корреляции:"
   ]
  },
  {
   "cell_type": "code",
   "execution_count": 427,
   "metadata": {},
   "outputs": [
    {
     "data": {
      "text/plain": [
       "<matplotlib.axes._subplots.AxesSubplot at 0x7fb2d3605ee0>"
      ]
     },
     "execution_count": 427,
     "metadata": {},
     "output_type": "execute_result"
    },
    {
     "data": {
      "image/png": "[encoded data removed]",
      "text/plain": [
       "<Figure size 1080x1080 with 2 Axes>"
      ]
     },
     "metadata": {
      "needs_background": "light"
     },
     "output_type": "display_data"
    }
   ],
   "source": [
    "# sns.heatmap(corr_mat, square=True, cmap='coolwarm')\n",
    "# pass\n",
    "plt.rcParams['figure.figsize'] = (15, 15)\n",
    "\n",
    "sns.heatmap(corr_mat, center=0, annot=True, cmap='bwr', vmin=-1, vmax=1,\n",
    "        xticklabels=corr_mat.columns,\n",
    "        yticklabels=corr_mat.columns)"
   ]
  },
  {
   "cell_type": "code",
   "execution_count": 428,
   "metadata": {},
   "outputs": [
    {
     "data": {
      "text/html": [
       "<div>\n",
       "<style scoped>\n",
       "    .dataframe tbody tr th:only-of-type {\n",
       "        vertical-align: middle;\n",
       "    }\n",
       "\n",
       "    .dataframe tbody tr th {\n",
       "        vertical-align: top;\n",
       "    }\n",
       "\n",
       "    .dataframe thead th {\n",
       "        text-align: right;\n",
       "    }\n",
       "</style>\n",
       "<table border=\"1\" class=\"dataframe\">\n",
       "  <thead>\n",
       "    <tr style=\"text-align: right;\">\n",
       "      <th></th>\n",
       "      <th>Year</th>\n",
       "      <th>Engine HP</th>\n",
       "      <th>Engine Cylinders</th>\n",
       "      <th>Number of Doors</th>\n",
       "      <th>highway MPG</th>\n",
       "      <th>city mpg</th>\n",
       "      <th>Popularity</th>\n",
       "      <th>MSRP</th>\n",
       "    </tr>\n",
       "  </thead>\n",
       "  <tbody>\n",
       "    <tr>\n",
       "      <th>Year</th>\n",
       "      <td>True</td>\n",
       "      <td>False</td>\n",
       "      <td>False</td>\n",
       "      <td>False</td>\n",
       "      <td>False</td>\n",
       "      <td>False</td>\n",
       "      <td>False</td>\n",
       "      <td>False</td>\n",
       "    </tr>\n",
       "    <tr>\n",
       "      <th>Engine HP</th>\n",
       "      <td>False</td>\n",
       "      <td>True</td>\n",
       "      <td>True</td>\n",
       "      <td>False</td>\n",
       "      <td>False</td>\n",
       "      <td>False</td>\n",
       "      <td>False</td>\n",
       "      <td>True</td>\n",
       "    </tr>\n",
       "    <tr>\n",
       "      <th>Engine Cylinders</th>\n",
       "      <td>False</td>\n",
       "      <td>True</td>\n",
       "      <td>True</td>\n",
       "      <td>False</td>\n",
       "      <td>False</td>\n",
       "      <td>False</td>\n",
       "      <td>False</td>\n",
       "      <td>True</td>\n",
       "    </tr>\n",
       "    <tr>\n",
       "      <th>Number of Doors</th>\n",
       "      <td>False</td>\n",
       "      <td>False</td>\n",
       "      <td>False</td>\n",
       "      <td>True</td>\n",
       "      <td>False</td>\n",
       "      <td>False</td>\n",
       "      <td>False</td>\n",
       "      <td>False</td>\n",
       "    </tr>\n",
       "    <tr>\n",
       "      <th>highway MPG</th>\n",
       "      <td>False</td>\n",
       "      <td>False</td>\n",
       "      <td>False</td>\n",
       "      <td>False</td>\n",
       "      <td>True</td>\n",
       "      <td>True</td>\n",
       "      <td>False</td>\n",
       "      <td>False</td>\n",
       "    </tr>\n",
       "    <tr>\n",
       "      <th>city mpg</th>\n",
       "      <td>False</td>\n",
       "      <td>False</td>\n",
       "      <td>False</td>\n",
       "      <td>False</td>\n",
       "      <td>True</td>\n",
       "      <td>True</td>\n",
       "      <td>False</td>\n",
       "      <td>False</td>\n",
       "    </tr>\n",
       "    <tr>\n",
       "      <th>Popularity</th>\n",
       "      <td>False</td>\n",
       "      <td>False</td>\n",
       "      <td>False</td>\n",
       "      <td>False</td>\n",
       "      <td>False</td>\n",
       "      <td>False</td>\n",
       "      <td>True</td>\n",
       "      <td>False</td>\n",
       "    </tr>\n",
       "    <tr>\n",
       "      <th>MSRP</th>\n",
       "      <td>False</td>\n",
       "      <td>True</td>\n",
       "      <td>True</td>\n",
       "      <td>False</td>\n",
       "      <td>False</td>\n",
       "      <td>False</td>\n",
       "      <td>False</td>\n",
       "      <td>True</td>\n",
       "    </tr>\n",
       "  </tbody>\n",
       "</table>\n",
       "</div>"
      ],
      "text/plain": [
       "                   Year  Engine HP  Engine Cylinders  Number of Doors  \\\n",
       "Year               True      False             False            False   \n",
       "Engine HP         False       True              True            False   \n",
       "Engine Cylinders  False       True              True            False   \n",
       "Number of Doors   False      False             False             True   \n",
       "highway MPG       False      False             False            False   \n",
       "city mpg          False      False             False            False   \n",
       "Popularity        False      False             False            False   \n",
       "MSRP              False       True              True            False   \n",
       "\n",
       "                  highway MPG  city mpg  Popularity   MSRP  \n",
       "Year                    False     False       False  False  \n",
       "Engine HP               False     False       False   True  \n",
       "Engine Cylinders        False     False       False   True  \n",
       "Number of Doors         False     False       False  False  \n",
       "highway MPG              True      True       False  False  \n",
       "city mpg                 True      True       False  False  \n",
       "Popularity              False     False        True  False  \n",
       "MSRP                    False     False       False   True  "
      ]
     },
     "execution_count": 428,
     "metadata": {},
     "output_type": "execute_result"
    }
   ],
   "source": [
    "corr_mat > 0.5"
   ]
  },
  {
   "cell_type": "code",
   "execution_count": 429,
   "metadata": {},
   "outputs": [
    {
     "data": {
      "text/plain": [
       "highway MPG       city mpg            0.837596\n",
       "Engine HP         Engine Cylinders    0.775016\n",
       "                  MSRP                0.707393\n",
       "Engine Cylinders  MSRP                0.566808\n",
       "dtype: float64"
      ]
     },
     "execution_count": 429,
     "metadata": {},
     "output_type": "execute_result"
    }
   ],
   "source": [
    "corr_mat.where(np.triu(corr_mat > 0.5, k=1)).stack().sort_values(ascending=False)"
   ]
  },
  {
   "cell_type": "markdown",
   "metadata": {},
   "source": [
    "Коэффициенты корреляции `highway MPG` и `city mpg` близок к 1, т.е. между этими признаками наблюдается положительная корреляция.\n",
    "\n",
    "Наблюдается высокая степень связи между `Engine HP` и `MSRP`, `Engine HP` и `Engine Cylinders`, а так же между `Engine Cylinders` и `MSRP`"
   ]
  },
  {
   "cell_type": "code",
   "execution_count": 430,
   "metadata": {},
   "outputs": [
    {
     "data": {
      "text/plain": [
       "(0.2628835063362246, 0.1383538122602926)"
      ]
     },
     "execution_count": 430,
     "metadata": {},
     "output_type": "execute_result"
    }
   ],
   "source": [
    "corr_mat.loc['Year', 'Number of Doors'],corr_mat.loc['Number of Doors', 'city mpg']"
   ]
  },
  {
   "cell_type": "markdown",
   "metadata": {},
   "source": [
    "Коэффициенты корреляции между `Year` и `Number of Doors`, а также между `Number of Doors` и `city mpg` весьма малы, что вполне объяснимо предметной областью."
   ]
  },
  {
   "cell_type": "code",
   "execution_count": 431,
   "metadata": {},
   "outputs": [
    {
     "data": {
      "image/png": "[encoded data removed]",
      "text/plain": [
       "<Figure size 1080x1080 with 1 Axes>"
      ]
     },
     "metadata": {
      "needs_background": "light"
     },
     "output_type": "display_data"
    }
   ],
   "source": [
    "sns.countplot(x='Engine Cylinders', data=data)\n",
    "pass"
   ]
  },
  {
   "cell_type": "code",
   "execution_count": 432,
   "metadata": {},
   "outputs": [
    {
     "data": {
      "image/png": "[encoded data removed]",
      "text/plain": [
       "<Figure size 1080x1080 with 1 Axes>"
      ]
     },
     "metadata": {
      "needs_background": "light"
     },
     "output_type": "display_data"
    }
   ],
   "source": [
    "sns.countplot(x='Number of Doors', data=data)\n",
    "pass"
   ]
  },
  {
   "cell_type": "code",
   "execution_count": 433,
   "metadata": {},
   "outputs": [
    {
     "data": {
      "text/plain": [
       "Chevrolet        1095\n",
       "Ford              861\n",
       "Volkswagen        809\n",
       "Toyota            744\n",
       "Dodge             620\n",
       "Nissan            548\n",
       "GMC               515\n",
       "Honda             445\n",
       "Mazda             423\n",
       "Cadillac          397\n",
       "Mercedes-Benz     350\n",
       "Suzuki            347\n",
       "BMW               330\n",
       "Infiniti          330\n",
       "Audi              328\n",
       "Hyundai           303\n",
       "Volvo             281\n",
       "Acura             252\n",
       "Subaru            246\n",
       "Kia               226\n",
       "Lexus             202\n",
       "Buick             196\n",
       "Mitsubishi        194\n",
       "Chrysler          187\n",
       "Pontiac           177\n",
       "Lincoln           164\n",
       "Oldsmobile        150\n",
       "Land Rover        143\n",
       "Porsche           136\n",
       "Saab              111\n",
       "Aston Martin       93\n",
       "Plymouth           82\n",
       "Bentley            74\n",
       "Ferrari            61\n",
       "Scion              60\n",
       "FIAT               59\n",
       "Maserati           58\n",
       "Lamborghini        38\n",
       "Rolls-Royce        31\n",
       "Lotus              29\n",
       "HUMMER             17\n",
       "Maybach            16\n",
       "Alfa Romeo          5\n",
       "McLaren             5\n",
       "Spyker              3\n",
       "Genesis             3\n",
       "Bugatti             0\n",
       "Tesla               0\n",
       "Name: Make, dtype: int64"
      ]
     },
     "execution_count": 433,
     "metadata": {},
     "output_type": "execute_result"
    }
   ],
   "source": [
    "data['Make'].value_counts()"
   ]
  },
  {
   "cell_type": "markdown",
   "metadata": {},
   "source": [
    "##  4. Заполнение пропущенных значений "
   ]
  },
  {
   "cell_type": "markdown",
   "metadata": {},
   "source": [
    "Пропущенные значения в таблице представлены значениями np.nan. Посмотрим, сколько пропущенных значений в каждом столбце матрицы:"
   ]
  },
  {
   "cell_type": "code",
   "execution_count": 434,
   "metadata": {},
   "outputs": [
    {
     "data": {
      "text/plain": [
       "Make                    0\n",
       "Model                   0\n",
       "Year                    0\n",
       "Engine Fuel Type        3\n",
       "Engine HP              26\n",
       "Engine Cylinders       28\n",
       "Transmission Type       0\n",
       "Driven_Wheels           0\n",
       "Number of Doors         0\n",
       "Market Category      3721\n",
       "Vehicle Size            0\n",
       "Vehicle Style           0\n",
       "highway MPG             0\n",
       "city mpg                0\n",
       "Popularity              0\n",
       "MSRP                    0\n",
       "dtype: int64"
      ]
     },
     "execution_count": 434,
     "metadata": {},
     "output_type": "execute_result"
    }
   ],
   "source": [
    "data.isna().sum()"
   ]
  },
  {
   "cell_type": "markdown",
   "metadata": {},
   "source": [
    "С пропущенными значениями надо что-то сделать. Например, можно просто удалить строки с пропущенными значениями. В нашем случае это разумно, так как таких строк немного. В некоторых случаях можно удалить столбцы с пропущенными значениями. Однако если данных мало такие простые стратегии могут привести к тому, что данных станет вообще ничтожное количество.\n",
    "\n",
    "Простая разумная стратегия - заполнить пропущенные значения средним или медианой (для количественных признаков) или модой (для номинальных признаков).\n",
    "\n",
    "Заполним медианами пропущенные значения в столбцах, соответствующих числовым признакам:"
   ]
  },
  {
   "cell_type": "markdown",
   "metadata": {},
   "source": [
    "Удалим столбец 'Market Category'"
   ]
  },
  {
   "cell_type": "code",
   "execution_count": 435,
   "metadata": {},
   "outputs": [],
   "source": [
    "data=data.drop(data.columns[[9]], axis='columns')"
   ]
  },
  {
   "cell_type": "code",
   "execution_count": 436,
   "metadata": {},
   "outputs": [
    {
     "data": {
      "text/plain": [
       "(11744, 15)"
      ]
     },
     "execution_count": 436,
     "metadata": {},
     "output_type": "execute_result"
    }
   ],
   "source": [
    "data.shape"
   ]
  },
  {
   "cell_type": "markdown",
   "metadata": {},
   "source": [
    "Строки с пропущенными значениями в столбцах `Engine Fuel Type`, `Engine HP`, `Engine Cylinders`, `Number of Doors` удалим, количество данных от этого изменится не сильно: "
   ]
  },
  {
   "cell_type": "code",
   "execution_count": 437,
   "metadata": {},
   "outputs": [],
   "source": [
    "data = data.dropna(subset=['Engine Fuel Type']) \n",
    "data = data.dropna(subset=['Engine HP'])\n",
    "data = data.dropna(subset=['Engine Cylinders']) \n",
    "data = data.dropna(subset=['Number of Doors'])"
   ]
  },
  {
   "cell_type": "code",
   "execution_count": 438,
   "metadata": {},
   "outputs": [
    {
     "data": {
      "text/plain": [
       "Make                 0\n",
       "Model                0\n",
       "Year                 0\n",
       "Engine Fuel Type     0\n",
       "Engine HP            0\n",
       "Engine Cylinders     0\n",
       "Transmission Type    0\n",
       "Driven_Wheels        0\n",
       "Number of Doors      0\n",
       "Vehicle Size         0\n",
       "Vehicle Style        0\n",
       "highway MPG          0\n",
       "city mpg             0\n",
       "Popularity           0\n",
       "MSRP                 0\n",
       "dtype: int64"
      ]
     },
     "execution_count": 438,
     "metadata": {},
     "output_type": "execute_result"
    }
   ],
   "source": [
    "data.isna().sum()  "
   ]
  },
  {
   "cell_type": "code",
   "execution_count": 439,
   "metadata": {},
   "outputs": [
    {
     "data": {
      "text/plain": [
       "(11688, 15)"
      ]
     },
     "execution_count": 439,
     "metadata": {},
     "output_type": "execute_result"
    }
   ],
   "source": [
    "data.shape"
   ]
  },
  {
   "cell_type": "markdown",
   "metadata": {},
   "source": [
    "В итоге, количество данных об автомобилях уменьшилось всего на 56."
   ]
  },
  {
   "cell_type": "markdown",
   "metadata": {},
   "source": [
    "## 5. Векторизация"
   ]
  },
  {
   "cell_type": "code",
   "execution_count": 440,
   "metadata": {},
   "outputs": [
    {
     "data": {
      "text/html": [
       "<div>\n",
       "<style scoped>\n",
       "    .dataframe tbody tr th:only-of-type {\n",
       "        vertical-align: middle;\n",
       "    }\n",
       "\n",
       "    .dataframe tbody tr th {\n",
       "        vertical-align: top;\n",
       "    }\n",
       "\n",
       "    .dataframe thead th {\n",
       "        text-align: right;\n",
       "    }\n",
       "</style>\n",
       "<table border=\"1\" class=\"dataframe\">\n",
       "  <thead>\n",
       "    <tr style=\"text-align: right;\">\n",
       "      <th></th>\n",
       "      <th>Year</th>\n",
       "      <th>Engine HP</th>\n",
       "      <th>Engine Cylinders</th>\n",
       "      <th>Number of Doors</th>\n",
       "      <th>highway MPG</th>\n",
       "      <th>city mpg</th>\n",
       "      <th>Popularity</th>\n",
       "      <th>MSRP</th>\n",
       "    </tr>\n",
       "  </thead>\n",
       "  <tbody>\n",
       "    <tr>\n",
       "      <th>count</th>\n",
       "      <td>11688.000000</td>\n",
       "      <td>11688.000000</td>\n",
       "      <td>11688.000000</td>\n",
       "      <td>11688.000000</td>\n",
       "      <td>11688.000000</td>\n",
       "      <td>11688.000000</td>\n",
       "      <td>11688.000000</td>\n",
       "      <td>1.168800e+04</td>\n",
       "    </tr>\n",
       "    <tr>\n",
       "      <th>mean</th>\n",
       "      <td>2010.387320</td>\n",
       "      <td>248.416410</td>\n",
       "      <td>5.646133</td>\n",
       "      <td>3.440366</td>\n",
       "      <td>26.214408</td>\n",
       "      <td>19.194387</td>\n",
       "      <td>1551.024726</td>\n",
       "      <td>3.940660e+04</td>\n",
       "    </tr>\n",
       "    <tr>\n",
       "      <th>std</th>\n",
       "      <td>7.556069</td>\n",
       "      <td>104.555537</td>\n",
       "      <td>1.710912</td>\n",
       "      <td>0.878834</td>\n",
       "      <td>6.950021</td>\n",
       "      <td>5.512235</td>\n",
       "      <td>1436.469926</td>\n",
       "      <td>4.927995e+04</td>\n",
       "    </tr>\n",
       "    <tr>\n",
       "      <th>min</th>\n",
       "      <td>1990.000000</td>\n",
       "      <td>79.000000</td>\n",
       "      <td>3.000000</td>\n",
       "      <td>2.000000</td>\n",
       "      <td>12.000000</td>\n",
       "      <td>8.000000</td>\n",
       "      <td>2.000000</td>\n",
       "      <td>2.000000e+03</td>\n",
       "    </tr>\n",
       "    <tr>\n",
       "      <th>25%</th>\n",
       "      <td>2007.000000</td>\n",
       "      <td>170.000000</td>\n",
       "      <td>4.000000</td>\n",
       "      <td>2.000000</td>\n",
       "      <td>22.000000</td>\n",
       "      <td>16.000000</td>\n",
       "      <td>549.000000</td>\n",
       "      <td>2.103875e+04</td>\n",
       "    </tr>\n",
       "    <tr>\n",
       "      <th>50%</th>\n",
       "      <td>2015.000000</td>\n",
       "      <td>227.000000</td>\n",
       "      <td>6.000000</td>\n",
       "      <td>4.000000</td>\n",
       "      <td>26.000000</td>\n",
       "      <td>18.000000</td>\n",
       "      <td>1385.000000</td>\n",
       "      <td>2.997000e+04</td>\n",
       "    </tr>\n",
       "    <tr>\n",
       "      <th>75%</th>\n",
       "      <td>2016.000000</td>\n",
       "      <td>300.000000</td>\n",
       "      <td>6.000000</td>\n",
       "      <td>4.000000</td>\n",
       "      <td>30.000000</td>\n",
       "      <td>22.000000</td>\n",
       "      <td>2009.000000</td>\n",
       "      <td>4.205000e+04</td>\n",
       "    </tr>\n",
       "    <tr>\n",
       "      <th>max</th>\n",
       "      <td>2017.000000</td>\n",
       "      <td>645.000000</td>\n",
       "      <td>12.000000</td>\n",
       "      <td>4.000000</td>\n",
       "      <td>354.000000</td>\n",
       "      <td>58.000000</td>\n",
       "      <td>5657.000000</td>\n",
       "      <td>1.382750e+06</td>\n",
       "    </tr>\n",
       "  </tbody>\n",
       "</table>\n",
       "</div>"
      ],
      "text/plain": [
       "               Year     Engine HP  Engine Cylinders  Number of Doors  \\\n",
       "count  11688.000000  11688.000000      11688.000000     11688.000000   \n",
       "mean    2010.387320    248.416410          5.646133         3.440366   \n",
       "std        7.556069    104.555537          1.710912         0.878834   \n",
       "min     1990.000000     79.000000          3.000000         2.000000   \n",
       "25%     2007.000000    170.000000          4.000000         2.000000   \n",
       "50%     2015.000000    227.000000          6.000000         4.000000   \n",
       "75%     2016.000000    300.000000          6.000000         4.000000   \n",
       "max     2017.000000    645.000000         12.000000         4.000000   \n",
       "\n",
       "        highway MPG      city mpg    Popularity          MSRP  \n",
       "count  11688.000000  11688.000000  11688.000000  1.168800e+04  \n",
       "mean      26.214408     19.194387   1551.024726  3.940660e+04  \n",
       "std        6.950021      5.512235   1436.469926  4.927995e+04  \n",
       "min       12.000000      8.000000      2.000000  2.000000e+03  \n",
       "25%       22.000000     16.000000    549.000000  2.103875e+04  \n",
       "50%       26.000000     18.000000   1385.000000  2.997000e+04  \n",
       "75%       30.000000     22.000000   2009.000000  4.205000e+04  \n",
       "max      354.000000     58.000000   5657.000000  1.382750e+06  "
      ]
     },
     "execution_count": 440,
     "metadata": {},
     "output_type": "execute_result"
    }
   ],
   "source": [
    "data.describe()"
   ]
  },
  {
   "cell_type": "code",
   "execution_count": 441,
   "metadata": {},
   "outputs": [
    {
     "data": {
      "text/html": [
       "<div>\n",
       "<style scoped>\n",
       "    .dataframe tbody tr th:only-of-type {\n",
       "        vertical-align: middle;\n",
       "    }\n",
       "\n",
       "    .dataframe tbody tr th {\n",
       "        vertical-align: top;\n",
       "    }\n",
       "\n",
       "    .dataframe thead th {\n",
       "        text-align: right;\n",
       "    }\n",
       "</style>\n",
       "<table border=\"1\" class=\"dataframe\">\n",
       "  <thead>\n",
       "    <tr style=\"text-align: right;\">\n",
       "      <th></th>\n",
       "      <th>Make</th>\n",
       "      <th>Model</th>\n",
       "      <th>Engine Fuel Type</th>\n",
       "      <th>Transmission Type</th>\n",
       "      <th>Driven_Wheels</th>\n",
       "      <th>Vehicle Size</th>\n",
       "      <th>Vehicle Style</th>\n",
       "    </tr>\n",
       "  </thead>\n",
       "  <tbody>\n",
       "    <tr>\n",
       "      <th>count</th>\n",
       "      <td>11688</td>\n",
       "      <td>11688</td>\n",
       "      <td>11688</td>\n",
       "      <td>11688</td>\n",
       "      <td>11688</td>\n",
       "      <td>11688</td>\n",
       "      <td>11688</td>\n",
       "    </tr>\n",
       "    <tr>\n",
       "      <th>unique</th>\n",
       "      <td>46</td>\n",
       "      <td>888</td>\n",
       "      <td>8</td>\n",
       "      <td>5</td>\n",
       "      <td>4</td>\n",
       "      <td>3</td>\n",
       "      <td>16</td>\n",
       "    </tr>\n",
       "    <tr>\n",
       "      <th>top</th>\n",
       "      <td>Chevrolet</td>\n",
       "      <td>Silverado 1500</td>\n",
       "      <td>regular unleaded</td>\n",
       "      <td>AUTOMATIC</td>\n",
       "      <td>front wheel drive</td>\n",
       "      <td>Compact</td>\n",
       "      <td>Sedan</td>\n",
       "    </tr>\n",
       "    <tr>\n",
       "      <th>freq</th>\n",
       "      <td>1087</td>\n",
       "      <td>156</td>\n",
       "      <td>7098</td>\n",
       "      <td>8215</td>\n",
       "      <td>4674</td>\n",
       "      <td>4614</td>\n",
       "      <td>3004</td>\n",
       "    </tr>\n",
       "  </tbody>\n",
       "</table>\n",
       "</div>"
      ],
      "text/plain": [
       "             Make           Model  Engine Fuel Type Transmission Type  \\\n",
       "count       11688           11688             11688             11688   \n",
       "unique         46             888                 8                 5   \n",
       "top     Chevrolet  Silverado 1500  regular unleaded         AUTOMATIC   \n",
       "freq         1087             156              7098              8215   \n",
       "\n",
       "            Driven_Wheels Vehicle Size Vehicle Style  \n",
       "count               11688        11688         11688  \n",
       "unique                  4            3            16  \n",
       "top     front wheel drive      Compact         Sedan  \n",
       "freq                 4674         4614          3004  "
      ]
     },
     "execution_count": 441,
     "metadata": {},
     "output_type": "execute_result"
    }
   ],
   "source": [
    "data.describe(include=['category'])"
   ]
  },
  {
   "cell_type": "markdown",
   "metadata": {},
   "source": [
    "Удалим столбецы `Make` и `Model` и  поскольку в них много, а именно 46 и 888 уникальных значений."
   ]
  },
  {
   "cell_type": "code",
   "execution_count": 442,
   "metadata": {},
   "outputs": [],
   "source": [
    "data.drop(['Make'], axis='columns', inplace=True)\n",
    "data.drop(['Model'], axis='columns', inplace=True)"
   ]
  },
  {
   "cell_type": "markdown",
   "metadata": {},
   "source": [
    "Проведем векторизацию категориальных (номинальных) признаков:"
   ]
  },
  {
   "cell_type": "code",
   "execution_count": 443,
   "metadata": {},
   "outputs": [
    {
     "name": "stdout",
     "output_type": "stream",
     "text": [
      "categorical_columns= ['Engine Fuel Type', 'Transmission Type', 'Driven_Wheels', 'Vehicle Size', 'Vehicle Style']\n",
      "numerical_columns= ['Year', 'Engine HP', 'Engine Cylinders', 'Number of Doors', 'highway MPG', 'city mpg', 'Popularity', 'MSRP']\n"
     ]
    }
   ],
   "source": [
    "categorical_columns = [c for c in data.columns if data[c].dtype.name == 'category']\n",
    "numerical_columns   = [c for c in data.columns if data[c].dtype.name != 'category']\n",
    "print('categorical_columns=', categorical_columns)\n",
    "print('numerical_columns=', numerical_columns)"
   ]
  },
  {
   "cell_type": "code",
   "execution_count": 444,
   "metadata": {},
   "outputs": [
    {
     "name": "stdout",
     "output_type": "stream",
     "text": [
      "binary_columns= []\n",
      "nonbinary_columns= ['Engine Fuel Type', 'Transmission Type', 'Driven_Wheels', 'Vehicle Size', 'Vehicle Style']\n"
     ]
    }
   ],
   "source": [
    "data_describe = data.describe(include=['category'])\n",
    "binary_columns    = [c for c in categorical_columns if data_describe[c]['unique'] == 2]\n",
    "nonbinary_columns = [c for c in categorical_columns if data_describe[c]['unique'] > 2]\n",
    "print('binary_columns=', binary_columns)\n",
    "print('nonbinary_columns=', nonbinary_columns)"
   ]
  },
  {
   "cell_type": "markdown",
   "metadata": {},
   "source": [
    "К небинарными признакам применим метод векторизации, \n",
    "который заключается в следующем.\n",
    "\n",
    "Признак `j`, принимающий `s` значений, заменим на `s` признаков, принимащих значения `0` или `1`,\n",
    "в зависимости от того, чему равно значение исходного признака `j`.\n",
    "\n",
    "Например, в нашей задаче признак `Driven_Wheels` принимает 4 различных значений: "
   ]
  },
  {
   "cell_type": "code",
   "execution_count": 445,
   "metadata": {},
   "outputs": [
    {
     "data": {
      "text/plain": [
       "[rear wheel drive, front wheel drive, all wheel drive, four wheel drive]\n",
       "Categories (4, object): [rear wheel drive, front wheel drive, all wheel drive, four wheel drive]"
      ]
     },
     "execution_count": 445,
     "metadata": {},
     "output_type": "execute_result"
    }
   ],
   "source": [
    "data['Driven_Wheels'].unique()"
   ]
  },
  {
   "cell_type": "markdown",
   "metadata": {},
   "source": [
    "Заменим признак `Driven_Wheels` на 4 признака: Driven_Wheels_rear_wheel_drive, Driven_Wheels_front_wheel_drive, Driven_Wheels_all_wheel_drive, Driven_Wheels_four_wheel_drive.\n",
    "\n",
    "Если признак `Driven_Wheels` принимает значение rear wheel drive, то признак Driven_Wheels_rear_wheel_drive равен 1, а все остальные равны 0.\n",
    "Если признак `Driven_Wheels` принимает значение front wheel drive, то признак Driven_Wheels_front_wheel_drive равен 1, а все остальные равны 0. и т.д.\n",
    "\n",
    "Такую векторизацию осуществляет в pandas метод get_dummies."
   ]
  },
  {
   "cell_type": "code",
   "execution_count": 446,
   "metadata": {},
   "outputs": [
    {
     "data": {
      "text/html": [
       "<div>\n",
       "<style scoped>\n",
       "    .dataframe tbody tr th:only-of-type {\n",
       "        vertical-align: middle;\n",
       "    }\n",
       "\n",
       "    .dataframe tbody tr th {\n",
       "        vertical-align: top;\n",
       "    }\n",
       "\n",
       "    .dataframe thead th {\n",
       "        text-align: right;\n",
       "    }\n",
       "</style>\n",
       "<table border=\"1\" class=\"dataframe\">\n",
       "  <thead>\n",
       "    <tr style=\"text-align: right;\">\n",
       "      <th></th>\n",
       "      <th>Engine Fuel Type</th>\n",
       "      <th>Transmission Type</th>\n",
       "      <th>Driven_Wheels</th>\n",
       "      <th>Vehicle Size</th>\n",
       "      <th>Vehicle Style</th>\n",
       "    </tr>\n",
       "  </thead>\n",
       "  <tbody>\n",
       "    <tr>\n",
       "      <th>0</th>\n",
       "      <td>premium unleaded (required)</td>\n",
       "      <td>MANUAL</td>\n",
       "      <td>rear wheel drive</td>\n",
       "      <td>Compact</td>\n",
       "      <td>Coupe</td>\n",
       "    </tr>\n",
       "    <tr>\n",
       "      <th>1</th>\n",
       "      <td>premium unleaded (required)</td>\n",
       "      <td>MANUAL</td>\n",
       "      <td>rear wheel drive</td>\n",
       "      <td>Compact</td>\n",
       "      <td>Convertible</td>\n",
       "    </tr>\n",
       "    <tr>\n",
       "      <th>2</th>\n",
       "      <td>premium unleaded (required)</td>\n",
       "      <td>MANUAL</td>\n",
       "      <td>rear wheel drive</td>\n",
       "      <td>Compact</td>\n",
       "      <td>Coupe</td>\n",
       "    </tr>\n",
       "    <tr>\n",
       "      <th>3</th>\n",
       "      <td>premium unleaded (required)</td>\n",
       "      <td>MANUAL</td>\n",
       "      <td>rear wheel drive</td>\n",
       "      <td>Compact</td>\n",
       "      <td>Coupe</td>\n",
       "    </tr>\n",
       "    <tr>\n",
       "      <th>4</th>\n",
       "      <td>premium unleaded (required)</td>\n",
       "      <td>MANUAL</td>\n",
       "      <td>rear wheel drive</td>\n",
       "      <td>Compact</td>\n",
       "      <td>Convertible</td>\n",
       "    </tr>\n",
       "    <tr>\n",
       "      <th>...</th>\n",
       "      <td>...</td>\n",
       "      <td>...</td>\n",
       "      <td>...</td>\n",
       "      <td>...</td>\n",
       "      <td>...</td>\n",
       "    </tr>\n",
       "    <tr>\n",
       "      <th>11909</th>\n",
       "      <td>premium unleaded (required)</td>\n",
       "      <td>AUTOMATIC</td>\n",
       "      <td>all wheel drive</td>\n",
       "      <td>Midsize</td>\n",
       "      <td>4dr Hatchback</td>\n",
       "    </tr>\n",
       "    <tr>\n",
       "      <th>11910</th>\n",
       "      <td>premium unleaded (required)</td>\n",
       "      <td>AUTOMATIC</td>\n",
       "      <td>all wheel drive</td>\n",
       "      <td>Midsize</td>\n",
       "      <td>4dr Hatchback</td>\n",
       "    </tr>\n",
       "    <tr>\n",
       "      <th>11911</th>\n",
       "      <td>premium unleaded (required)</td>\n",
       "      <td>AUTOMATIC</td>\n",
       "      <td>all wheel drive</td>\n",
       "      <td>Midsize</td>\n",
       "      <td>4dr Hatchback</td>\n",
       "    </tr>\n",
       "    <tr>\n",
       "      <th>11912</th>\n",
       "      <td>premium unleaded (recommended)</td>\n",
       "      <td>AUTOMATIC</td>\n",
       "      <td>all wheel drive</td>\n",
       "      <td>Midsize</td>\n",
       "      <td>4dr Hatchback</td>\n",
       "    </tr>\n",
       "    <tr>\n",
       "      <th>11913</th>\n",
       "      <td>regular unleaded</td>\n",
       "      <td>AUTOMATIC</td>\n",
       "      <td>front wheel drive</td>\n",
       "      <td>Midsize</td>\n",
       "      <td>Sedan</td>\n",
       "    </tr>\n",
       "  </tbody>\n",
       "</table>\n",
       "<p>11688 rows × 5 columns</p>\n",
       "</div>"
      ],
      "text/plain": [
       "                     Engine Fuel Type Transmission Type      Driven_Wheels  \\\n",
       "0         premium unleaded (required)            MANUAL   rear wheel drive   \n",
       "1         premium unleaded (required)            MANUAL   rear wheel drive   \n",
       "2         premium unleaded (required)            MANUAL   rear wheel drive   \n",
       "3         premium unleaded (required)            MANUAL   rear wheel drive   \n",
       "4         premium unleaded (required)            MANUAL   rear wheel drive   \n",
       "...                               ...               ...                ...   \n",
       "11909     premium unleaded (required)         AUTOMATIC    all wheel drive   \n",
       "11910     premium unleaded (required)         AUTOMATIC    all wheel drive   \n",
       "11911     premium unleaded (required)         AUTOMATIC    all wheel drive   \n",
       "11912  premium unleaded (recommended)         AUTOMATIC    all wheel drive   \n",
       "11913                regular unleaded         AUTOMATIC  front wheel drive   \n",
       "\n",
       "      Vehicle Size  Vehicle Style  \n",
       "0          Compact          Coupe  \n",
       "1          Compact    Convertible  \n",
       "2          Compact          Coupe  \n",
       "3          Compact          Coupe  \n",
       "4          Compact    Convertible  \n",
       "...            ...            ...  \n",
       "11909      Midsize  4dr Hatchback  \n",
       "11910      Midsize  4dr Hatchback  \n",
       "11911      Midsize  4dr Hatchback  \n",
       "11912      Midsize  4dr Hatchback  \n",
       "11913      Midsize          Sedan  \n",
       "\n",
       "[11688 rows x 5 columns]"
      ]
     },
     "execution_count": 446,
     "metadata": {},
     "output_type": "execute_result"
    }
   ],
   "source": [
    "data[categorical_columns]"
   ]
  },
  {
   "cell_type": "code",
   "execution_count": 447,
   "metadata": {},
   "outputs": [
    {
     "name": "stdout",
     "output_type": "stream",
     "text": [
      "Index(['Engine Fuel Type_diesel', 'Engine Fuel Type_electric',\n",
      "       'Engine Fuel Type_flex-fuel (premium unleaded recommended/E85)',\n",
      "       'Engine Fuel Type_flex-fuel (premium unleaded required/E85)',\n",
      "       'Engine Fuel Type_flex-fuel (unleaded/E85)',\n",
      "       'Engine Fuel Type_flex-fuel (unleaded/natural gas)',\n",
      "       'Engine Fuel Type_natural gas',\n",
      "       'Engine Fuel Type_premium unleaded (recommended)',\n",
      "       'Engine Fuel Type_premium unleaded (required)',\n",
      "       'Engine Fuel Type_regular unleaded',\n",
      "       'Transmission Type_AUTOMATED_MANUAL', 'Transmission Type_AUTOMATIC',\n",
      "       'Transmission Type_DIRECT_DRIVE', 'Transmission Type_MANUAL',\n",
      "       'Transmission Type_UNKNOWN', 'Driven_Wheels_all wheel drive',\n",
      "       'Driven_Wheels_four wheel drive', 'Driven_Wheels_front wheel drive',\n",
      "       'Driven_Wheels_rear wheel drive', 'Vehicle Size_Compact',\n",
      "       'Vehicle Size_Large', 'Vehicle Size_Midsize',\n",
      "       'Vehicle Style_2dr Hatchback', 'Vehicle Style_2dr SUV',\n",
      "       'Vehicle Style_4dr Hatchback', 'Vehicle Style_4dr SUV',\n",
      "       'Vehicle Style_Cargo Minivan', 'Vehicle Style_Cargo Van',\n",
      "       'Vehicle Style_Convertible', 'Vehicle Style_Convertible SUV',\n",
      "       'Vehicle Style_Coupe', 'Vehicle Style_Crew Cab Pickup',\n",
      "       'Vehicle Style_Extended Cab Pickup', 'Vehicle Style_Passenger Minivan',\n",
      "       'Vehicle Style_Passenger Van', 'Vehicle Style_Regular Cab Pickup',\n",
      "       'Vehicle Style_Sedan', 'Vehicle Style_Wagon'],\n",
      "      dtype='object')\n"
     ]
    }
   ],
   "source": [
    "data_categorical = pd.get_dummies(data[nonbinary_columns])\n",
    "print(data_categorical.columns)"
   ]
  },
  {
   "cell_type": "code",
   "execution_count": 448,
   "metadata": {},
   "outputs": [
    {
     "data": {
      "text/plain": [
       "38"
      ]
     },
     "execution_count": 448,
     "metadata": {},
     "output_type": "execute_result"
    }
   ],
   "source": [
    "len(data_categorical.columns)"
   ]
  },
  {
   "cell_type": "markdown",
   "metadata": {},
   "source": [
    "## 6. Нормализация количественных признаков\n",
    "\n",
    "Многие алгоритмы машинного обучения чувствительны к масштабированию данных. К таким алгоритмам, например, относится метод ближайших соседей, машина опорных векторов и др.\n",
    "\n",
    "В этом случае количественные признаки полезно нормализовать. Это можно делать разными способами. Например, каждый количественный признак приведем к нулевому среднему и единичному среднеквадратичному отклонению.\n",
    "\n",
    "Не будем нормализовать целевой признак `Driven_Wheels`"
   ]
  },
  {
   "cell_type": "code",
   "execution_count": 449,
   "metadata": {},
   "outputs": [],
   "source": [
    "numerical_columns_without_Driven_Wheels = ['Year', 'Engine HP', 'Number of Doors', 'highway MPG', 'city mpg', 'Popularity', 'MSRP']"
   ]
  },
  {
   "cell_type": "code",
   "execution_count": 450,
   "metadata": {},
   "outputs": [
    {
     "data": {
      "text/html": [
       "<div>\n",
       "<style scoped>\n",
       "    .dataframe tbody tr th:only-of-type {\n",
       "        vertical-align: middle;\n",
       "    }\n",
       "\n",
       "    .dataframe tbody tr th {\n",
       "        vertical-align: top;\n",
       "    }\n",
       "\n",
       "    .dataframe thead th {\n",
       "        text-align: right;\n",
       "    }\n",
       "</style>\n",
       "<table border=\"1\" class=\"dataframe\">\n",
       "  <thead>\n",
       "    <tr style=\"text-align: right;\">\n",
       "      <th></th>\n",
       "      <th>Year</th>\n",
       "      <th>Engine HP</th>\n",
       "      <th>Number of Doors</th>\n",
       "      <th>highway MPG</th>\n",
       "      <th>city mpg</th>\n",
       "      <th>Popularity</th>\n",
       "      <th>MSRP</th>\n",
       "    </tr>\n",
       "  </thead>\n",
       "  <tbody>\n",
       "    <tr>\n",
       "      <th>count</th>\n",
       "      <td>11688.000000</td>\n",
       "      <td>11688.000000</td>\n",
       "      <td>11688.000000</td>\n",
       "      <td>11688.000000</td>\n",
       "      <td>11688.000000</td>\n",
       "      <td>11688.000000</td>\n",
       "      <td>1.168800e+04</td>\n",
       "    </tr>\n",
       "    <tr>\n",
       "      <th>mean</th>\n",
       "      <td>2010.387320</td>\n",
       "      <td>248.416410</td>\n",
       "      <td>3.440366</td>\n",
       "      <td>26.214408</td>\n",
       "      <td>19.194387</td>\n",
       "      <td>1551.024726</td>\n",
       "      <td>3.940660e+04</td>\n",
       "    </tr>\n",
       "    <tr>\n",
       "      <th>std</th>\n",
       "      <td>7.556069</td>\n",
       "      <td>104.555537</td>\n",
       "      <td>0.878834</td>\n",
       "      <td>6.950021</td>\n",
       "      <td>5.512235</td>\n",
       "      <td>1436.469926</td>\n",
       "      <td>4.927995e+04</td>\n",
       "    </tr>\n",
       "    <tr>\n",
       "      <th>min</th>\n",
       "      <td>1990.000000</td>\n",
       "      <td>79.000000</td>\n",
       "      <td>2.000000</td>\n",
       "      <td>12.000000</td>\n",
       "      <td>8.000000</td>\n",
       "      <td>2.000000</td>\n",
       "      <td>2.000000e+03</td>\n",
       "    </tr>\n",
       "    <tr>\n",
       "      <th>25%</th>\n",
       "      <td>2007.000000</td>\n",
       "      <td>170.000000</td>\n",
       "      <td>2.000000</td>\n",
       "      <td>22.000000</td>\n",
       "      <td>16.000000</td>\n",
       "      <td>549.000000</td>\n",
       "      <td>2.103875e+04</td>\n",
       "    </tr>\n",
       "    <tr>\n",
       "      <th>50%</th>\n",
       "      <td>2015.000000</td>\n",
       "      <td>227.000000</td>\n",
       "      <td>4.000000</td>\n",
       "      <td>26.000000</td>\n",
       "      <td>18.000000</td>\n",
       "      <td>1385.000000</td>\n",
       "      <td>2.997000e+04</td>\n",
       "    </tr>\n",
       "    <tr>\n",
       "      <th>75%</th>\n",
       "      <td>2016.000000</td>\n",
       "      <td>300.000000</td>\n",
       "      <td>4.000000</td>\n",
       "      <td>30.000000</td>\n",
       "      <td>22.000000</td>\n",
       "      <td>2009.000000</td>\n",
       "      <td>4.205000e+04</td>\n",
       "    </tr>\n",
       "    <tr>\n",
       "      <th>max</th>\n",
       "      <td>2017.000000</td>\n",
       "      <td>645.000000</td>\n",
       "      <td>4.000000</td>\n",
       "      <td>354.000000</td>\n",
       "      <td>58.000000</td>\n",
       "      <td>5657.000000</td>\n",
       "      <td>1.382750e+06</td>\n",
       "    </tr>\n",
       "  </tbody>\n",
       "</table>\n",
       "</div>"
      ],
      "text/plain": [
       "               Year     Engine HP  Number of Doors   highway MPG  \\\n",
       "count  11688.000000  11688.000000     11688.000000  11688.000000   \n",
       "mean    2010.387320    248.416410         3.440366     26.214408   \n",
       "std        7.556069    104.555537         0.878834      6.950021   \n",
       "min     1990.000000     79.000000         2.000000     12.000000   \n",
       "25%     2007.000000    170.000000         2.000000     22.000000   \n",
       "50%     2015.000000    227.000000         4.000000     26.000000   \n",
       "75%     2016.000000    300.000000         4.000000     30.000000   \n",
       "max     2017.000000    645.000000         4.000000    354.000000   \n",
       "\n",
       "           city mpg    Popularity          MSRP  \n",
       "count  11688.000000  11688.000000  1.168800e+04  \n",
       "mean      19.194387   1551.024726  3.940660e+04  \n",
       "std        5.512235   1436.469926  4.927995e+04  \n",
       "min        8.000000      2.000000  2.000000e+03  \n",
       "25%       16.000000    549.000000  2.103875e+04  \n",
       "50%       18.000000   1385.000000  2.997000e+04  \n",
       "75%       22.000000   2009.000000  4.205000e+04  \n",
       "max       58.000000   5657.000000  1.382750e+06  "
      ]
     },
     "execution_count": 450,
     "metadata": {},
     "output_type": "execute_result"
    }
   ],
   "source": [
    "data_numerical_without_Driven_Wheels = data[numerical_columns_without_Driven_Wheels]\n",
    "data_numerical_without_Driven_Wheels.describe()"
   ]
  },
  {
   "cell_type": "code",
   "execution_count": 451,
   "metadata": {},
   "outputs": [],
   "source": [
    "data_numerical_without_Driven_Wheels = (data_numerical_without_Driven_Wheels - data_numerical_without_Driven_Wheels.mean(axis = 0))/data_numerical_without_Driven_Wheels.std(axis = 0)"
   ]
  },
  {
   "cell_type": "code",
   "execution_count": 452,
   "metadata": {},
   "outputs": [
    {
     "data": {
      "text/html": [
       "<div>\n",
       "<style scoped>\n",
       "    .dataframe tbody tr th:only-of-type {\n",
       "        vertical-align: middle;\n",
       "    }\n",
       "\n",
       "    .dataframe tbody tr th {\n",
       "        vertical-align: top;\n",
       "    }\n",
       "\n",
       "    .dataframe thead th {\n",
       "        text-align: right;\n",
       "    }\n",
       "</style>\n",
       "<table border=\"1\" class=\"dataframe\">\n",
       "  <thead>\n",
       "    <tr style=\"text-align: right;\">\n",
       "      <th></th>\n",
       "      <th>Year</th>\n",
       "      <th>Engine HP</th>\n",
       "      <th>Number of Doors</th>\n",
       "      <th>highway MPG</th>\n",
       "      <th>city mpg</th>\n",
       "      <th>Popularity</th>\n",
       "      <th>MSRP</th>\n",
       "    </tr>\n",
       "  </thead>\n",
       "  <tbody>\n",
       "    <tr>\n",
       "      <th>count</th>\n",
       "      <td>1.168800e+04</td>\n",
       "      <td>1.168800e+04</td>\n",
       "      <td>1.168800e+04</td>\n",
       "      <td>1.168800e+04</td>\n",
       "      <td>1.168800e+04</td>\n",
       "      <td>1.168800e+04</td>\n",
       "      <td>1.168800e+04</td>\n",
       "    </tr>\n",
       "    <tr>\n",
       "      <th>mean</th>\n",
       "      <td>6.975607e-15</td>\n",
       "      <td>-1.075790e-16</td>\n",
       "      <td>1.277070e-14</td>\n",
       "      <td>1.768762e-15</td>\n",
       "      <td>2.252144e-15</td>\n",
       "      <td>1.675308e-15</td>\n",
       "      <td>-4.245976e-16</td>\n",
       "    </tr>\n",
       "    <tr>\n",
       "      <th>std</th>\n",
       "      <td>1.000000e+00</td>\n",
       "      <td>1.000000e+00</td>\n",
       "      <td>1.000000e+00</td>\n",
       "      <td>1.000000e+00</td>\n",
       "      <td>1.000000e+00</td>\n",
       "      <td>1.000000e+00</td>\n",
       "      <td>1.000000e+00</td>\n",
       "    </tr>\n",
       "    <tr>\n",
       "      <th>min</th>\n",
       "      <td>-2.698139e+00</td>\n",
       "      <td>-1.620349e+00</td>\n",
       "      <td>-1.638952e+00</td>\n",
       "      <td>-2.045232e+00</td>\n",
       "      <td>-2.030826e+00</td>\n",
       "      <td>-1.078355e+00</td>\n",
       "      <td>-7.590633e-01</td>\n",
       "    </tr>\n",
       "    <tr>\n",
       "      <th>25%</th>\n",
       "      <td>-4.482914e-01</td>\n",
       "      <td>-7.499977e-01</td>\n",
       "      <td>-1.638952e+00</td>\n",
       "      <td>-6.063878e-01</td>\n",
       "      <td>-5.795086e-01</td>\n",
       "      <td>-6.975605e-01</td>\n",
       "      <td>-3.727246e-01</td>\n",
       "    </tr>\n",
       "    <tr>\n",
       "      <th>50%</th>\n",
       "      <td>6.104603e-01</td>\n",
       "      <td>-2.048329e-01</td>\n",
       "      <td>6.367916e-01</td>\n",
       "      <td>-3.084997e-02</td>\n",
       "      <td>-2.166793e-01</td>\n",
       "      <td>-1.155783e-01</td>\n",
       "      <td>-1.914897e-01</td>\n",
       "    </tr>\n",
       "    <tr>\n",
       "      <th>75%</th>\n",
       "      <td>7.428042e-01</td>\n",
       "      <td>4.933607e-01</td>\n",
       "      <td>6.367916e-01</td>\n",
       "      <td>5.446879e-01</td>\n",
       "      <td>5.089792e-01</td>\n",
       "      <td>3.188200e-01</td>\n",
       "      <td>5.364043e-02</td>\n",
       "    </tr>\n",
       "    <tr>\n",
       "      <th>max</th>\n",
       "      <td>8.751482e-01</td>\n",
       "      <td>3.793042e+00</td>\n",
       "      <td>6.367916e-01</td>\n",
       "      <td>4.716325e+01</td>\n",
       "      <td>7.039906e+00</td>\n",
       "      <td>2.858379e+00</td>\n",
       "      <td>2.725943e+01</td>\n",
       "    </tr>\n",
       "  </tbody>\n",
       "</table>\n",
       "</div>"
      ],
      "text/plain": [
       "               Year     Engine HP  Number of Doors   highway MPG  \\\n",
       "count  1.168800e+04  1.168800e+04     1.168800e+04  1.168800e+04   \n",
       "mean   6.975607e-15 -1.075790e-16     1.277070e-14  1.768762e-15   \n",
       "std    1.000000e+00  1.000000e+00     1.000000e+00  1.000000e+00   \n",
       "min   -2.698139e+00 -1.620349e+00    -1.638952e+00 -2.045232e+00   \n",
       "25%   -4.482914e-01 -7.499977e-01    -1.638952e+00 -6.063878e-01   \n",
       "50%    6.104603e-01 -2.048329e-01     6.367916e-01 -3.084997e-02   \n",
       "75%    7.428042e-01  4.933607e-01     6.367916e-01  5.446879e-01   \n",
       "max    8.751482e-01  3.793042e+00     6.367916e-01  4.716325e+01   \n",
       "\n",
       "           city mpg    Popularity          MSRP  \n",
       "count  1.168800e+04  1.168800e+04  1.168800e+04  \n",
       "mean   2.252144e-15  1.675308e-15 -4.245976e-16  \n",
       "std    1.000000e+00  1.000000e+00  1.000000e+00  \n",
       "min   -2.030826e+00 -1.078355e+00 -7.590633e-01  \n",
       "25%   -5.795086e-01 -6.975605e-01 -3.727246e-01  \n",
       "50%   -2.166793e-01 -1.155783e-01 -1.914897e-01  \n",
       "75%    5.089792e-01  3.188200e-01  5.364043e-02  \n",
       "max    7.039906e+00  2.858379e+00  2.725943e+01  "
      ]
     },
     "execution_count": 452,
     "metadata": {},
     "output_type": "execute_result"
    }
   ],
   "source": [
    "data_numerical_without_Driven_Wheels.describe()"
   ]
  },
  {
   "cell_type": "markdown",
   "metadata": {},
   "source": [
    "## Соединяем все в одну таблицу"
   ]
  },
  {
   "cell_type": "code",
   "execution_count": 453,
   "metadata": {},
   "outputs": [
    {
     "name": "stdout",
     "output_type": "stream",
     "text": [
      "(11688, 46)\n"
     ]
    }
   ],
   "source": [
    "data = pd.concat((data['Engine Cylinders'], data_numerical_without_Driven_Wheels, data_categorical), axis = 1)\n",
    "print(data.shape)"
   ]
  },
  {
   "cell_type": "code",
   "execution_count": 454,
   "metadata": {},
   "outputs": [
    {
     "data": {
      "text/html": [
       "<div>\n",
       "<style scoped>\n",
       "    .dataframe tbody tr th:only-of-type {\n",
       "        vertical-align: middle;\n",
       "    }\n",
       "\n",
       "    .dataframe tbody tr th {\n",
       "        vertical-align: top;\n",
       "    }\n",
       "\n",
       "    .dataframe thead th {\n",
       "        text-align: right;\n",
       "    }\n",
       "</style>\n",
       "<table border=\"1\" class=\"dataframe\">\n",
       "  <thead>\n",
       "    <tr style=\"text-align: right;\">\n",
       "      <th></th>\n",
       "      <th>Engine Cylinders</th>\n",
       "      <th>Year</th>\n",
       "      <th>Engine HP</th>\n",
       "      <th>Number of Doors</th>\n",
       "      <th>highway MPG</th>\n",
       "      <th>city mpg</th>\n",
       "      <th>Popularity</th>\n",
       "      <th>MSRP</th>\n",
       "      <th>Engine Fuel Type_diesel</th>\n",
       "      <th>Engine Fuel Type_electric</th>\n",
       "      <th>...</th>\n",
       "      <th>Vehicle Style_Convertible</th>\n",
       "      <th>Vehicle Style_Convertible SUV</th>\n",
       "      <th>Vehicle Style_Coupe</th>\n",
       "      <th>Vehicle Style_Crew Cab Pickup</th>\n",
       "      <th>Vehicle Style_Extended Cab Pickup</th>\n",
       "      <th>Vehicle Style_Passenger Minivan</th>\n",
       "      <th>Vehicle Style_Passenger Van</th>\n",
       "      <th>Vehicle Style_Regular Cab Pickup</th>\n",
       "      <th>Vehicle Style_Sedan</th>\n",
       "      <th>Vehicle Style_Wagon</th>\n",
       "    </tr>\n",
       "  </thead>\n",
       "  <tbody>\n",
       "    <tr>\n",
       "      <th>count</th>\n",
       "      <td>11688.000000</td>\n",
       "      <td>1.168800e+04</td>\n",
       "      <td>1.168800e+04</td>\n",
       "      <td>1.168800e+04</td>\n",
       "      <td>1.168800e+04</td>\n",
       "      <td>1.168800e+04</td>\n",
       "      <td>1.168800e+04</td>\n",
       "      <td>1.168800e+04</td>\n",
       "      <td>11688.000000</td>\n",
       "      <td>11688.0</td>\n",
       "      <td>...</td>\n",
       "      <td>11688.000000</td>\n",
       "      <td>11688.000000</td>\n",
       "      <td>11688.000000</td>\n",
       "      <td>11688.000000</td>\n",
       "      <td>11688.000000</td>\n",
       "      <td>11688.000000</td>\n",
       "      <td>11688.000000</td>\n",
       "      <td>11688.000000</td>\n",
       "      <td>11688.000000</td>\n",
       "      <td>11688.000000</td>\n",
       "    </tr>\n",
       "    <tr>\n",
       "      <th>mean</th>\n",
       "      <td>5.646133</td>\n",
       "      <td>6.975607e-15</td>\n",
       "      <td>-1.075790e-16</td>\n",
       "      <td>1.277070e-14</td>\n",
       "      <td>1.768762e-15</td>\n",
       "      <td>2.252144e-15</td>\n",
       "      <td>1.675308e-15</td>\n",
       "      <td>-4.245976e-16</td>\n",
       "      <td>0.013090</td>\n",
       "      <td>0.0</td>\n",
       "      <td>...</td>\n",
       "      <td>0.066307</td>\n",
       "      <td>0.002139</td>\n",
       "      <td>0.098477</td>\n",
       "      <td>0.058265</td>\n",
       "      <td>0.053303</td>\n",
       "      <td>0.035250</td>\n",
       "      <td>0.010951</td>\n",
       "      <td>0.033539</td>\n",
       "      <td>0.257016</td>\n",
       "      <td>0.050222</td>\n",
       "    </tr>\n",
       "    <tr>\n",
       "      <th>std</th>\n",
       "      <td>1.710912</td>\n",
       "      <td>1.000000e+00</td>\n",
       "      <td>1.000000e+00</td>\n",
       "      <td>1.000000e+00</td>\n",
       "      <td>1.000000e+00</td>\n",
       "      <td>1.000000e+00</td>\n",
       "      <td>1.000000e+00</td>\n",
       "      <td>1.000000e+00</td>\n",
       "      <td>0.113667</td>\n",
       "      <td>0.0</td>\n",
       "      <td>...</td>\n",
       "      <td>0.248829</td>\n",
       "      <td>0.046201</td>\n",
       "      <td>0.297971</td>\n",
       "      <td>0.234254</td>\n",
       "      <td>0.224646</td>\n",
       "      <td>0.184419</td>\n",
       "      <td>0.104079</td>\n",
       "      <td>0.180046</td>\n",
       "      <td>0.437007</td>\n",
       "      <td>0.218413</td>\n",
       "    </tr>\n",
       "    <tr>\n",
       "      <th>min</th>\n",
       "      <td>3.000000</td>\n",
       "      <td>-2.698139e+00</td>\n",
       "      <td>-1.620349e+00</td>\n",
       "      <td>-1.638952e+00</td>\n",
       "      <td>-2.045232e+00</td>\n",
       "      <td>-2.030826e+00</td>\n",
       "      <td>-1.078355e+00</td>\n",
       "      <td>-7.590633e-01</td>\n",
       "      <td>0.000000</td>\n",
       "      <td>0.0</td>\n",
       "      <td>...</td>\n",
       "      <td>0.000000</td>\n",
       "      <td>0.000000</td>\n",
       "      <td>0.000000</td>\n",
       "      <td>0.000000</td>\n",
       "      <td>0.000000</td>\n",
       "      <td>0.000000</td>\n",
       "      <td>0.000000</td>\n",
       "      <td>0.000000</td>\n",
       "      <td>0.000000</td>\n",
       "      <td>0.000000</td>\n",
       "    </tr>\n",
       "    <tr>\n",
       "      <th>25%</th>\n",
       "      <td>4.000000</td>\n",
       "      <td>-4.482914e-01</td>\n",
       "      <td>-7.499977e-01</td>\n",
       "      <td>-1.638952e+00</td>\n",
       "      <td>-6.063878e-01</td>\n",
       "      <td>-5.795086e-01</td>\n",
       "      <td>-6.975605e-01</td>\n",
       "      <td>-3.727246e-01</td>\n",
       "      <td>0.000000</td>\n",
       "      <td>0.0</td>\n",
       "      <td>...</td>\n",
       "      <td>0.000000</td>\n",
       "      <td>0.000000</td>\n",
       "      <td>0.000000</td>\n",
       "      <td>0.000000</td>\n",
       "      <td>0.000000</td>\n",
       "      <td>0.000000</td>\n",
       "      <td>0.000000</td>\n",
       "      <td>0.000000</td>\n",
       "      <td>0.000000</td>\n",
       "      <td>0.000000</td>\n",
       "    </tr>\n",
       "    <tr>\n",
       "      <th>50%</th>\n",
       "      <td>6.000000</td>\n",
       "      <td>6.104603e-01</td>\n",
       "      <td>-2.048329e-01</td>\n",
       "      <td>6.367916e-01</td>\n",
       "      <td>-3.084997e-02</td>\n",
       "      <td>-2.166793e-01</td>\n",
       "      <td>-1.155783e-01</td>\n",
       "      <td>-1.914897e-01</td>\n",
       "      <td>0.000000</td>\n",
       "      <td>0.0</td>\n",
       "      <td>...</td>\n",
       "      <td>0.000000</td>\n",
       "      <td>0.000000</td>\n",
       "      <td>0.000000</td>\n",
       "      <td>0.000000</td>\n",
       "      <td>0.000000</td>\n",
       "      <td>0.000000</td>\n",
       "      <td>0.000000</td>\n",
       "      <td>0.000000</td>\n",
       "      <td>0.000000</td>\n",
       "      <td>0.000000</td>\n",
       "    </tr>\n",
       "    <tr>\n",
       "      <th>75%</th>\n",
       "      <td>6.000000</td>\n",
       "      <td>7.428042e-01</td>\n",
       "      <td>4.933607e-01</td>\n",
       "      <td>6.367916e-01</td>\n",
       "      <td>5.446879e-01</td>\n",
       "      <td>5.089792e-01</td>\n",
       "      <td>3.188200e-01</td>\n",
       "      <td>5.364043e-02</td>\n",
       "      <td>0.000000</td>\n",
       "      <td>0.0</td>\n",
       "      <td>...</td>\n",
       "      <td>0.000000</td>\n",
       "      <td>0.000000</td>\n",
       "      <td>0.000000</td>\n",
       "      <td>0.000000</td>\n",
       "      <td>0.000000</td>\n",
       "      <td>0.000000</td>\n",
       "      <td>0.000000</td>\n",
       "      <td>0.000000</td>\n",
       "      <td>1.000000</td>\n",
       "      <td>0.000000</td>\n",
       "    </tr>\n",
       "    <tr>\n",
       "      <th>max</th>\n",
       "      <td>12.000000</td>\n",
       "      <td>8.751482e-01</td>\n",
       "      <td>3.793042e+00</td>\n",
       "      <td>6.367916e-01</td>\n",
       "      <td>4.716325e+01</td>\n",
       "      <td>7.039906e+00</td>\n",
       "      <td>2.858379e+00</td>\n",
       "      <td>2.725943e+01</td>\n",
       "      <td>1.000000</td>\n",
       "      <td>0.0</td>\n",
       "      <td>...</td>\n",
       "      <td>1.000000</td>\n",
       "      <td>1.000000</td>\n",
       "      <td>1.000000</td>\n",
       "      <td>1.000000</td>\n",
       "      <td>1.000000</td>\n",
       "      <td>1.000000</td>\n",
       "      <td>1.000000</td>\n",
       "      <td>1.000000</td>\n",
       "      <td>1.000000</td>\n",
       "      <td>1.000000</td>\n",
       "    </tr>\n",
       "  </tbody>\n",
       "</table>\n",
       "<p>8 rows × 46 columns</p>\n",
       "</div>"
      ],
      "text/plain": [
       "       Engine Cylinders          Year     Engine HP  Number of Doors  \\\n",
       "count      11688.000000  1.168800e+04  1.168800e+04     1.168800e+04   \n",
       "mean           5.646133  6.975607e-15 -1.075790e-16     1.277070e-14   \n",
       "std            1.710912  1.000000e+00  1.000000e+00     1.000000e+00   \n",
       "min            3.000000 -2.698139e+00 -1.620349e+00    -1.638952e+00   \n",
       "25%            4.000000 -4.482914e-01 -7.499977e-01    -1.638952e+00   \n",
       "50%            6.000000  6.104603e-01 -2.048329e-01     6.367916e-01   \n",
       "75%            6.000000  7.428042e-01  4.933607e-01     6.367916e-01   \n",
       "max           12.000000  8.751482e-01  3.793042e+00     6.367916e-01   \n",
       "\n",
       "        highway MPG      city mpg    Popularity          MSRP  \\\n",
       "count  1.168800e+04  1.168800e+04  1.168800e+04  1.168800e+04   \n",
       "mean   1.768762e-15  2.252144e-15  1.675308e-15 -4.245976e-16   \n",
       "std    1.000000e+00  1.000000e+00  1.000000e+00  1.000000e+00   \n",
       "min   -2.045232e+00 -2.030826e+00 -1.078355e+00 -7.590633e-01   \n",
       "25%   -6.063878e-01 -5.795086e-01 -6.975605e-01 -3.727246e-01   \n",
       "50%   -3.084997e-02 -2.166793e-01 -1.155783e-01 -1.914897e-01   \n",
       "75%    5.446879e-01  5.089792e-01  3.188200e-01  5.364043e-02   \n",
       "max    4.716325e+01  7.039906e+00  2.858379e+00  2.725943e+01   \n",
       "\n",
       "       Engine Fuel Type_diesel  Engine Fuel Type_electric  ...  \\\n",
       "count             11688.000000                    11688.0  ...   \n",
       "mean                  0.013090                        0.0  ...   \n",
       "std                   0.113667                        0.0  ...   \n",
       "min                   0.000000                        0.0  ...   \n",
       "25%                   0.000000                        0.0  ...   \n",
       "50%                   0.000000                        0.0  ...   \n",
       "75%                   0.000000                        0.0  ...   \n",
       "max                   1.000000                        0.0  ...   \n",
       "\n",
       "       Vehicle Style_Convertible  Vehicle Style_Convertible SUV  \\\n",
       "count               11688.000000                   11688.000000   \n",
       "mean                    0.066307                       0.002139   \n",
       "std                     0.248829                       0.046201   \n",
       "min                     0.000000                       0.000000   \n",
       "25%                     0.000000                       0.000000   \n",
       "50%                     0.000000                       0.000000   \n",
       "75%                     0.000000                       0.000000   \n",
       "max                     1.000000                       1.000000   \n",
       "\n",
       "       Vehicle Style_Coupe  Vehicle Style_Crew Cab Pickup  \\\n",
       "count         11688.000000                   11688.000000   \n",
       "mean              0.098477                       0.058265   \n",
       "std               0.297971                       0.234254   \n",
       "min               0.000000                       0.000000   \n",
       "25%               0.000000                       0.000000   \n",
       "50%               0.000000                       0.000000   \n",
       "75%               0.000000                       0.000000   \n",
       "max               1.000000                       1.000000   \n",
       "\n",
       "       Vehicle Style_Extended Cab Pickup  Vehicle Style_Passenger Minivan  \\\n",
       "count                       11688.000000                     11688.000000   \n",
       "mean                            0.053303                         0.035250   \n",
       "std                             0.224646                         0.184419   \n",
       "min                             0.000000                         0.000000   \n",
       "25%                             0.000000                         0.000000   \n",
       "50%                             0.000000                         0.000000   \n",
       "75%                             0.000000                         0.000000   \n",
       "max                             1.000000                         1.000000   \n",
       "\n",
       "       Vehicle Style_Passenger Van  Vehicle Style_Regular Cab Pickup  \\\n",
       "count                 11688.000000                      11688.000000   \n",
       "mean                      0.010951                          0.033539   \n",
       "std                       0.104079                          0.180046   \n",
       "min                       0.000000                          0.000000   \n",
       "25%                       0.000000                          0.000000   \n",
       "50%                       0.000000                          0.000000   \n",
       "75%                       0.000000                          0.000000   \n",
       "max                       1.000000                          1.000000   \n",
       "\n",
       "       Vehicle Style_Sedan  Vehicle Style_Wagon  \n",
       "count         11688.000000         11688.000000  \n",
       "mean              0.257016             0.050222  \n",
       "std               0.437007             0.218413  \n",
       "min               0.000000             0.000000  \n",
       "25%               0.000000             0.000000  \n",
       "50%               0.000000             0.000000  \n",
       "75%               1.000000             0.000000  \n",
       "max               1.000000             1.000000  \n",
       "\n",
       "[8 rows x 46 columns]"
      ]
     },
     "execution_count": 454,
     "metadata": {},
     "output_type": "execute_result"
    }
   ],
   "source": [
    "data.describe()"
   ]
  },
  {
   "cell_type": "markdown",
   "metadata": {},
   "source": [
    "## 7. Отбор признаков \n",
    "\n",
    "Для классификации автомобилей по признаку обозначенному `Driven_Wheels`, будем использовать все входные признаки."
   ]
  },
  {
   "cell_type": "markdown",
   "metadata": {},
   "source": [
    "### X и y"
   ]
  },
  {
   "cell_type": "code",
   "execution_count": 455,
   "metadata": {},
   "outputs": [],
   "source": [
    "# X - вся таблица без столбца Driven_Wheels\n",
    "# y - только столбец Driven_Wheels\n",
    "X = data.drop('Engine Cylinders', axis = 1) # выбрасываем столбец 'Driven_Wheels'\n",
    "y = data['Engine Cylinders']\n",
    "feature_names = X.columns"
   ]
  },
  {
   "cell_type": "code",
   "execution_count": 456,
   "metadata": {},
   "outputs": [
    {
     "data": {
      "text/plain": [
       "pandas.core.indexes.base.Index"
      ]
     },
     "execution_count": 456,
     "metadata": {},
     "output_type": "execute_result"
    }
   ],
   "source": [
    "type(feature_names)"
   ]
  },
  {
   "cell_type": "code",
   "execution_count": 457,
   "metadata": {},
   "outputs": [
    {
     "data": {
      "text/plain": [
       "Index(['Year', 'Engine HP', 'Number of Doors', 'highway MPG', 'city mpg',\n",
       "       'Popularity', 'MSRP', 'Engine Fuel Type_diesel',\n",
       "       'Engine Fuel Type_electric',\n",
       "       'Engine Fuel Type_flex-fuel (premium unleaded recommended/E85)',\n",
       "       'Engine Fuel Type_flex-fuel (premium unleaded required/E85)',\n",
       "       'Engine Fuel Type_flex-fuel (unleaded/E85)',\n",
       "       'Engine Fuel Type_flex-fuel (unleaded/natural gas)',\n",
       "       'Engine Fuel Type_natural gas',\n",
       "       'Engine Fuel Type_premium unleaded (recommended)',\n",
       "       'Engine Fuel Type_premium unleaded (required)',\n",
       "       'Engine Fuel Type_regular unleaded',\n",
       "       'Transmission Type_AUTOMATED_MANUAL', 'Transmission Type_AUTOMATIC',\n",
       "       'Transmission Type_DIRECT_DRIVE', 'Transmission Type_MANUAL',\n",
       "       'Transmission Type_UNKNOWN', 'Driven_Wheels_all wheel drive',\n",
       "       'Driven_Wheels_four wheel drive', 'Driven_Wheels_front wheel drive',\n",
       "       'Driven_Wheels_rear wheel drive', 'Vehicle Size_Compact',\n",
       "       'Vehicle Size_Large', 'Vehicle Size_Midsize',\n",
       "       'Vehicle Style_2dr Hatchback', 'Vehicle Style_2dr SUV',\n",
       "       'Vehicle Style_4dr Hatchback', 'Vehicle Style_4dr SUV',\n",
       "       'Vehicle Style_Cargo Minivan', 'Vehicle Style_Cargo Van',\n",
       "       'Vehicle Style_Convertible', 'Vehicle Style_Convertible SUV',\n",
       "       'Vehicle Style_Coupe', 'Vehicle Style_Crew Cab Pickup',\n",
       "       'Vehicle Style_Extended Cab Pickup', 'Vehicle Style_Passenger Minivan',\n",
       "       'Vehicle Style_Passenger Van', 'Vehicle Style_Regular Cab Pickup',\n",
       "       'Vehicle Style_Sedan', 'Vehicle Style_Wagon'],\n",
       "      dtype='object')"
      ]
     },
     "execution_count": 457,
     "metadata": {},
     "output_type": "execute_result"
    }
   ],
   "source": [
    "feature_names\n",
    "# д.б. все колонки, кроме Driven_Wheels"
   ]
  },
  {
   "cell_type": "code",
   "execution_count": 458,
   "metadata": {},
   "outputs": [],
   "source": [
    "X = X.to_numpy()"
   ]
  },
  {
   "cell_type": "code",
   "execution_count": 459,
   "metadata": {},
   "outputs": [],
   "source": [
    "y = y.to_numpy()"
   ]
  },
  {
   "cell_type": "code",
   "execution_count": 460,
   "metadata": {},
   "outputs": [
    {
     "name": "stdout",
     "output_type": "stream",
     "text": [
      "[6. 6. 6. ... 6. 6. 6.]\n"
     ]
    }
   ],
   "source": [
    "print(y)"
   ]
  },
  {
   "cell_type": "code",
   "execution_count": 461,
   "metadata": {},
   "outputs": [
    {
     "name": "stdout",
     "output_type": "stream",
     "text": [
      "(11688, 45)\n",
      "(11688,)\n"
     ]
    }
   ],
   "source": [
    "print(X.shape)\n",
    "print(y.shape)\n",
    "N, d = X.shape"
   ]
  },
  {
   "cell_type": "code",
   "execution_count": 462,
   "metadata": {},
   "outputs": [
    {
     "data": {
      "text/plain": [
       "numpy.ndarray"
      ]
     },
     "execution_count": 462,
     "metadata": {},
     "output_type": "execute_result"
    }
   ],
   "source": [
    "type(X)"
   ]
  },
  {
   "cell_type": "code",
   "execution_count": 463,
   "metadata": {},
   "outputs": [
    {
     "data": {
      "text/plain": [
       "numpy.ndarray"
      ]
     },
     "execution_count": 463,
     "metadata": {},
     "output_type": "execute_result"
    }
   ],
   "source": [
    "type(y)"
   ]
  },
  {
   "cell_type": "markdown",
   "metadata": {},
   "source": [
    "## 8. Разбиваем на тренировочную и тестовую выборки"
   ]
  },
  {
   "cell_type": "code",
   "execution_count": 464,
   "metadata": {},
   "outputs": [
    {
     "name": "stdout",
     "output_type": "stream",
     "text": [
      "8181 3507\n",
      "X_train:  (8181, 45)\n",
      "X_test:   (3507, 45)\n",
      "y_train:  (8181,)\n",
      "y_test:   (3507,)\n"
     ]
    }
   ],
   "source": [
    "from sklearn.model_selection import train_test_split\n",
    "X_train, X_test, y_train, y_test = train_test_split(X, y, test_size = 0.3, random_state = 42)\n",
    "# тестовая выборка - 30% данных\n",
    "# random_state фиксирует split\n",
    "\n",
    "N_train, _ = X_train.shape \n",
    "N_test,  _ = X_test.shape \n",
    "print(N_train, N_test)\n",
    "\n",
    "print(\"X_train: \", X_train.shape)\n",
    "print(\"X_test:  \", X_test.shape)\n",
    "print(\"y_train: \", y_train.shape)\n",
    "print(\"y_test:  \", y_test.shape)"
   ]
  },
  {
   "cell_type": "markdown",
   "metadata": {},
   "source": [
    "### kNN"
   ]
  },
  {
   "cell_type": "code",
   "execution_count": 465,
   "metadata": {},
   "outputs": [
    {
     "name": "stderr",
     "output_type": "stream",
     "text": [
      "100%|██████████| 18/18 [01:05<00:00,  3.66s/it]\n"
     ]
    }
   ],
   "source": [
    "from sklearn.neighbors import KNeighborsClassifier\n",
    "from sklearn.utils import parallel_backend\n",
    "from sklearn.metrics import f1_score\n",
    "from tqdm import tqdm\n",
    "\n",
    "target_names = ['Flop', 'Hit']\n",
    "\n",
    "y_train_pred = []\n",
    "y_test_pred = []\n",
    "\n",
    "iter_ = range(1, 37, 2)\n",
    "\n",
    "for n_neig in tqdm(iter_):\n",
    "    neigh = KNeighborsClassifier(n_neighbors=n_neig)\n",
    "    neigh.fit(X_train, y_train)\n",
    "    \n",
    "    y_train_pred.append(neigh.predict(X_train))\n",
    "    y_test_pred.append(neigh.predict(X_test))\n"
   ]
  },
  {
   "cell_type": "code",
   "execution_count": 466,
   "metadata": {},
   "outputs": [
    {
     "data": {
      "text/plain": [
       "'best number of neighbors: 1'"
      ]
     },
     "execution_count": 466,
     "metadata": {},
     "output_type": "execute_result"
    },
    {
     "data": {
      "image/png": "[encoded data removed]",
      "text/plain": [
       "<Figure size 576x576 with 1 Axes>"
      ]
     },
     "metadata": {
      "needs_background": "light"
     },
     "output_type": "display_data"
    }
   ],
   "source": [
    "plt.rcParams['figure.figsize'] = (8, 8)\n",
    "\n",
    "res_train = []\n",
    "res_test = []\n",
    "\n",
    "for i in range(len(iter_)):\n",
    "    res_train.append(np.mean(y_train != y_train_pred[i]))\n",
    "    res_test.append(np.mean(y_test != y_test_pred[i]))\n",
    "\n",
    "plt.scatter(list(iter_)[::-1], res_train[::-1], color='blue', label='train loss')\n",
    "plt.scatter(list(iter_)[::-1], res_test[::-1], color='orange', label='test loss')\n",
    "\n",
    "plt.plot(list(iter_)[::-1], res_train[::-1], color='blue')\n",
    "plt.plot(list(iter_)[::-1], res_test[::-1], color='orange')\n",
    "\n",
    "plt.grid()\n",
    "plt.legend()\n",
    "f\"best number of neighbors: {np.argmin(res_test)*2 + 1}\""
   ]
  },
  {
   "cell_type": "code",
   "execution_count": 485,
   "metadata": {},
   "outputs": [
    {
     "data": {
      "text/plain": [
       "', error: 0.020'"
      ]
     },
     "execution_count": 485,
     "metadata": {},
     "output_type": "execute_result"
    }
   ],
   "source": [
    "neigh = KNeighborsClassifier(n_neighbors = 1)\n",
    "neigh.fit(X_train, y_train)\n",
    "\n",
    "y_pred = neigh.predict(X_test)\n",
    "f\", error: {np.mean(y_test != y_pred):.3f}\""
   ]
  },
  {
   "cell_type": "markdown",
   "metadata": {},
   "source": [
    "Также построим матрицу ошибок(confusion matrix) для лучшего случая (один сосед):"
   ]
  },
  {
   "cell_type": "code",
   "execution_count": 468,
   "metadata": {},
   "outputs": [
    {
     "data": {
      "text/plain": [
       "array([[   0,    1,    0,    0,    0,    0,    0],\n",
       "       [   0, 1389,    1,   13,    0,    0,    0],\n",
       "       [   0,    4,   57,    5,    0,    0,    0],\n",
       "       [   0,   14,    7, 1290,    5,    0,    0],\n",
       "       [   0,    0,    2,   10,  630,    0,    3],\n",
       "       [   0,    0,    0,    1,    0,   21,    0],\n",
       "       [   0,    0,    0,    0,    3,    0,   51]])"
      ]
     },
     "execution_count": 468,
     "metadata": {},
     "output_type": "execute_result"
    }
   ],
   "source": [
    "from sklearn.metrics import confusion_matrix\n",
    "confusion_matrix(y_test, y_test_pred[0])"
   ]
  },
  {
   "cell_type": "markdown",
   "metadata": {},
   "source": [
    "На диагонали представлены \"большие\" значения, соответствующие тому, что метод сделал правильный прогноз.\n",
    "Ошибок мало."
   ]
  },
  {
   "cell_type": "markdown",
   "metadata": {},
   "source": [
    "Из собранных предсказанний на тестовой выборки найдем оптимальное количество ближайших соседей.\n",
    "Оптимальным является 1 ближайший сосед. Получили, что ошибка на тестовой выборке = 0.011690903906472769, а ошибка на обучающей выборке = 0.0, что можно считать очень хорошим результатом."
   ]
  },
  {
   "cell_type": "markdown",
   "metadata": {},
   "source": [
    "### Random forest"
   ]
  },
  {
   "cell_type": "code",
   "execution_count": 494,
   "metadata": {},
   "outputs": [
    {
     "name": "stdout",
     "output_type": "stream",
     "text": [
      "[6. 4. 4. ... 4. 4. 4.]\n",
      "0.0001222344456667889 0.01454234388366125\n",
      "[[   0    1    0    0    0    0    0]\n",
      " [   0 1391    0   12    0    0    0]\n",
      " [   0    5   57    4    0    0    0]\n",
      " [   0    2    0 1308    6    0    0]\n",
      " [   0    0    0   14  629    0    2]\n",
      " [   0    0    0    0    1   21    0]\n",
      " [   0    0    0    0    4    0   50]]\n"
     ]
    }
   ],
   "source": [
    "from sklearn import ensemble\n",
    "rf = ensemble.RandomForestClassifier(n_estimators = 100)\n",
    "rf.fit(X_train, y_train)\n",
    "\n",
    "y_train_predict = rf.predict(X_train)\n",
    "print(y_train_predict)\n",
    "y_test_predict = rf.predict(X_test)\n",
    "\n",
    "err_train = np.mean(y_train != rf.predict(X_train))\n",
    "err_test  = np.mean(y_test  != rf.predict(X_test))\n",
    "\n",
    "print(err_train, err_test)\n",
    "print(confusion_matrix(y_test, y_test_predict))"
   ]
  },
  {
   "cell_type": "markdown",
   "metadata": {},
   "source": [
    "### SVC"
   ]
  },
  {
   "cell_type": "code",
   "execution_count": 470,
   "metadata": {},
   "outputs": [
    {
     "name": "stdout",
     "output_type": "stream",
     "text": [
      "0.0847084708470847 0.0872540633019675\n",
      "[[   0    1    0    0    0    0    0]\n",
      " [   0 1340    0   63    0    0    0]\n",
      " [   0   40    0   26    0    0    0]\n",
      " [   0   34    0 1241   39    2    0]\n",
      " [   0    0    0   71  561    0   13]\n",
      " [   0    0    0    1    2   18    1]\n",
      " [   0    0    0    0   13    0   41]]\n"
     ]
    }
   ],
   "source": [
    "from sklearn.svm import SVC\n",
    "svc = SVC(gamma='auto')\n",
    "svc.fit(X_train, y_train)\n",
    "\n",
    "y_train_predict = svc.predict(X_train)\n",
    "y_test_predict = svc.predict(X_test)\n",
    "\n",
    "err_train = np.mean(y_train != svc.predict(X_train))\n",
    "err_test  = np.mean(y_test  != svc.predict(X_test))\n",
    "\n",
    "print(err_train, err_test)\n",
    "print(confusion_matrix(y_test, y_test_predict))"
   ]
  },
  {
   "cell_type": "code",
   "execution_count": 471,
   "metadata": {},
   "outputs": [
    {
     "data": {
      "text/plain": [
       "' error: 0.140'"
      ]
     },
     "execution_count": 471,
     "metadata": {},
     "output_type": "execute_result"
    }
   ],
   "source": [
    "from sklearn.linear_model import SGDClassifier\n",
    "\n",
    "clf = SGDClassifier(max_iter=1000, tol=1e-3, alpha=0.001, random_state=42)\n",
    "\n",
    "clf.fit(X_train, y_train)\n",
    "\n",
    "у_pred = clf.predict(X_test)\n",
    "f\" error: {np.mean(y_test != у_pred):.3f}\""
   ]
  },
  {
   "cell_type": "markdown",
   "metadata": {},
   "source": [
    "## Общие выводы"
   ]
  },
  {
   "cell_type": "markdown",
   "metadata": {},
   "source": [
    "В результате был проанализирован датасет The Spotify Hit Predictor, визуализированы данные.\n",
    "\n",
    "1.Отсутсвует сильная корреляция признаков и результирующей метки.\n",
    "2.Некоторые признаки содержали выбросы, поэтому было проведено удаление выбросов.\n",
    "3.Обработаны категориальные признаки.\n",
    "4.Проведена нормализация признаков, для наилучшей работы алгоритмов машинного обучения.\n",
    "5.Обучено несколько различных классификаторов с разными параметрами, а именно линейная классификация, метод ближайших - соседей, метод опорных векторов.\n",
    "6.Наилучшая достигнутая точность была получена на методе опорных векторов и равна примерно 80%, при наилучшей точности для метода ближайших соседе."
   ]
  },
  {
   "cell_type": "markdown",
   "metadata": {},
   "source": [
    "## PCA"
   ]
  },
  {
   "cell_type": "markdown",
   "metadata": {},
   "source": [
    "Применим алгоритм PCA для сокращения размерности пространства признаков."
   ]
  },
  {
   "cell_type": "code",
   "execution_count": 472,
   "metadata": {},
   "outputs": [
    {
     "name": "stdout",
     "output_type": "stream",
     "text": [
      "(11688, 45)\n",
      "(11688, 2)\n"
     ]
    }
   ],
   "source": [
    "from sklearn.decomposition import PCA\n",
    "pca = PCA(n_components = 2)\n",
    "pca.fit(X)\n",
    "X_proj = pca.transform(X)\n",
    "print(X.shape)\n",
    "print(X_proj.shape)"
   ]
  },
  {
   "cell_type": "code",
   "execution_count": 473,
   "metadata": {},
   "outputs": [
    {
     "name": "stdout",
     "output_type": "stream",
     "text": [
      "Главные компоненты (по строкам):\n",
      "[[-2.91354129e-03 -5.00952710e-01  1.33014538e-01  4.70193879e-01\n",
      "   5.02015984e-01 -3.06455834e-02 -3.89131119e-01  7.89361547e-03\n",
      "  -2.91924755e-25 -4.50709564e-04 -5.57817865e-03 -2.47608518e-02\n",
      "  -0.00000000e+00  1.54802810e-04  7.40615331e-03 -9.89277887e-02\n",
      "   1.14262957e-01 -3.52471788e-03 -3.08593156e-02  2.81873335e-04\n",
      "   3.43146776e-02 -2.12517384e-04 -2.93801448e-02 -4.36224899e-02\n",
      "   1.89031007e-01 -1.16028372e-01  9.33249159e-02 -1.04580174e-01\n",
      "   1.12552583e-02  1.92787134e-02 -2.39259973e-03  3.99292607e-02\n",
      "  -1.87349296e-02  1.08956778e-03 -3.37148586e-03 -2.37025725e-02\n",
      "   2.44173345e-04 -3.55089146e-02 -2.07946133e-02 -1.37397155e-02\n",
      "   7.01265668e-04 -5.94960134e-03 -8.62005286e-03  5.75631394e-02\n",
      "   1.40083650e-02]\n",
      " [ 6.53521677e-01  3.12511576e-01  3.26090459e-01  3.02249471e-01\n",
      "   2.57991940e-01 -3.18979983e-03  3.38815332e-01  7.81714622e-03\n",
      "  -7.70628048e-24  3.70321319e-04  3.92618964e-03  8.91369344e-03\n",
      "  -0.00000000e+00  1.04339492e-04  4.91019418e-02  6.76380417e-02\n",
      "  -1.37871674e-01  2.66472571e-02  1.16447368e-01  2.44439597e-04\n",
      "  -1.40679377e-01 -2.65968799e-03  8.09653071e-02 -3.58475773e-02\n",
      "   1.25035637e-02 -5.76212936e-02 -7.73015648e-02  1.16899968e-02\n",
      "   6.56115680e-02 -2.38726628e-02 -1.89232790e-02  1.83002520e-02\n",
      "   5.82998161e-02 -1.54564709e-03 -7.72843349e-03 -5.64543056e-03\n",
      "  -2.28107600e-03 -2.10462970e-02  5.11463254e-03 -2.89562160e-02\n",
      "  -9.70273144e-03 -4.86316731e-03 -3.65777755e-02  8.18989520e-02\n",
      "  -2.47093650e-03]]\n",
      "Дисперсии по главным компонентам, собственные значения вдоль каждой компоненты:\n",
      "[2.81367618 1.8314625 ]\n",
      "Среднеквадратические отклонения:\n",
      "[1.67740162 1.35331537]\n",
      "Соответствующие сингулярные значения:\n",
      "[181.33789873 146.30209222]\n"
     ]
    }
   ],
   "source": [
    "print(\"Главные компоненты (по строкам):\")\n",
    "print(pca.components_)\n",
    "print(\"Дисперсии по главным компонентам, собственные значения вдоль каждой компоненты:\")\n",
    "print(pca.explained_variance_)\n",
    "print(\"Среднеквадратические отклонения:\")\n",
    "print(np.sqrt(pca.explained_variance_))\n",
    "print(\"Соответствующие сингулярные значения:\")\n",
    "print(pca.singular_values_)"
   ]
  },
  {
   "cell_type": "code",
   "execution_count": 474,
   "metadata": {},
   "outputs": [
    {
     "name": "stdout",
     "output_type": "stream",
     "text": [
      "[ 3.  4.  5.  6.  8. 10. 12.]\n"
     ]
    }
   ],
   "source": [
    "y_names = np.unique(y)\n",
    "K = len(y_names)\n",
    "print(y_names)"
   ]
  },
  {
   "cell_type": "code",
   "execution_count": 475,
   "metadata": {},
   "outputs": [],
   "source": [
    "y1 = y.reshape(y.shape[0], 1)\n",
    "pca_data = np.concatenate([X_proj, y1], axis=1)"
   ]
  },
  {
   "cell_type": "code",
   "execution_count": 476,
   "metadata": {},
   "outputs": [
    {
     "name": "stdout",
     "output_type": "stream",
     "text": [
      "             x1        x2 class\n",
      "0     -0.985695 -0.437414   6.a\n",
      "1     -0.627576 -0.477359   6.a\n",
      "2     -0.514355 -0.475521   6.a\n",
      "3     -0.306628 -0.825794   6.a\n",
      "4     -0.334698 -0.775673   6.a\n",
      "...         ...       ...   ...\n",
      "11683 -0.897706  0.601796   6.a\n",
      "11684 -0.981013  0.674331   6.a\n",
      "11685 -0.933240  0.632735   6.a\n",
      "11686 -0.829660  0.702751   6.a\n",
      "11687  0.364662 -0.303794   6.a\n",
      "\n",
      "[11688 rows x 3 columns]\n"
     ]
    },
    {
     "data": {
      "image/png": "[encoded data removed]",
      "text/plain": [
       "<Figure size 576x576 with 1 Axes>"
      ]
     },
     "metadata": {
      "needs_background": "light"
     },
     "output_type": "display_data"
    }
   ],
   "source": [
    "df = pd.DataFrame(data = pca_data, columns=[\"x1\", 'x2', 'class'])\n",
    "df.loc[df['class'] == 3, 'class'] = '3.a'\n",
    "df.loc[df['class'] == 4, 'class'] = '4.a'\n",
    "df.loc[df['class'] == 5, 'class'] = '5.a'\n",
    "df.loc[df['class'] == 6, 'class'] = '6.a'\n",
    "df.loc[df['class'] == 8, 'class'] = '8.a'\n",
    "df.loc[df['class'] == 10, 'class'] = '10.a'\n",
    "df.loc[df['class'] == 12, 'class'] = '12.a'\n",
    "sns.scatterplot(data=df, x=\"x1\", y=\"x2\", hue=\"class\")\n",
    "print(df)"
   ]
  },
  {
   "cell_type": "code",
   "execution_count": 477,
   "metadata": {},
   "outputs": [
    {
     "name": "stdout",
     "output_type": "stream",
     "text": [
      "Index(['Engine Cylinders', 'Year', 'Engine HP', 'Number of Doors',\n",
      "       'highway MPG', 'city mpg', 'Popularity', 'MSRP',\n",
      "       'Engine Fuel Type_diesel', 'Engine Fuel Type_electric',\n",
      "       'Engine Fuel Type_flex-fuel (premium unleaded recommended/E85)',\n",
      "       'Engine Fuel Type_flex-fuel (premium unleaded required/E85)',\n",
      "       'Engine Fuel Type_flex-fuel (unleaded/E85)',\n",
      "       'Engine Fuel Type_flex-fuel (unleaded/natural gas)',\n",
      "       'Engine Fuel Type_natural gas',\n",
      "       'Engine Fuel Type_premium unleaded (recommended)',\n",
      "       'Engine Fuel Type_premium unleaded (required)',\n",
      "       'Engine Fuel Type_regular unleaded',\n",
      "       'Transmission Type_AUTOMATED_MANUAL', 'Transmission Type_AUTOMATIC',\n",
      "       'Transmission Type_DIRECT_DRIVE', 'Transmission Type_MANUAL',\n",
      "       'Transmission Type_UNKNOWN', 'Driven_Wheels_all wheel drive',\n",
      "       'Driven_Wheels_four wheel drive', 'Driven_Wheels_front wheel drive',\n",
      "       'Driven_Wheels_rear wheel drive', 'Vehicle Size_Compact',\n",
      "       'Vehicle Size_Large', 'Vehicle Size_Midsize',\n",
      "       'Vehicle Style_2dr Hatchback', 'Vehicle Style_2dr SUV',\n",
      "       'Vehicle Style_4dr Hatchback', 'Vehicle Style_4dr SUV',\n",
      "       'Vehicle Style_Cargo Minivan', 'Vehicle Style_Cargo Van',\n",
      "       'Vehicle Style_Convertible', 'Vehicle Style_Convertible SUV',\n",
      "       'Vehicle Style_Coupe', 'Vehicle Style_Crew Cab Pickup',\n",
      "       'Vehicle Style_Extended Cab Pickup', 'Vehicle Style_Passenger Minivan',\n",
      "       'Vehicle Style_Passenger Van', 'Vehicle Style_Regular Cab Pickup',\n",
      "       'Vehicle Style_Sedan', 'Vehicle Style_Wagon'],\n",
      "      dtype='object')\n"
     ]
    },
    {
     "data": {
      "image/png": "[encoded data removed]",
      "text/plain": [
       "<Figure size 1152x1008 with 1 Axes>"
      ]
     },
     "metadata": {
      "needs_background": "light"
     },
     "output_type": "display_data"
    }
   ],
   "source": [
    "def component_plot(draw, coeff, labels):\n",
    "    plt.figure(figsize=(16,14))\n",
    "#     draw = pd.concat([Xx, y], axis=1, join='inner')\n",
    "    sns.scatterplot(data=draw, x='x1', y='x2', hue='class', alpha=0.7)\n",
    "    for i in range(0, len(coeff[0])):\n",
    "        plt.text(coeff[0, i]*20, coeff[1, i]*20, labels[i], color='black', ha='center', va='center')\n",
    "        plt.plot([0, coeff[0, i]*20], [0, coeff[1, i]*20])\n",
    "    \n",
    "    \n",
    "component_plot(df, pca.components_, data.columns)\n",
    "print(data.columns)"
   ]
  },
  {
   "cell_type": "markdown",
   "metadata": {},
   "source": [
    "### LDA"
   ]
  },
  {
   "cell_type": "code",
   "execution_count": 478,
   "metadata": {},
   "outputs": [],
   "source": [
    "from sklearn.discriminant_analysis import LinearDiscriminantAnalysis as LDA"
   ]
  },
  {
   "cell_type": "code",
   "execution_count": 479,
   "metadata": {},
   "outputs": [],
   "source": [
    "lda = LDA(n_components=2)\n",
    "lda.fit(X_train, y_train.ravel())\n",
    "\n",
    "X_train_lda = lda.transform(X_train)\n",
    "X_test_lda = lda.transform(X_test)"
   ]
  },
  {
   "cell_type": "code",
   "execution_count": 480,
   "metadata": {},
   "outputs": [],
   "source": [
    "# data_x_lda = np.array(data.drop(['class'], axis=1))\n",
    "# data_y_lda = np.array(data['class'])\n",
    "\n",
    "# from sklearn.model_selection import train_test_split\n",
    "# _, _, y_train2, y_test2 = train_test_split(data_x_lda, data_y_lda, test_size = 0.25, random_state = 42)"
   ]
  },
  {
   "cell_type": "code",
   "execution_count": 481,
   "metadata": {},
   "outputs": [],
   "source": [
    "y_train_pd = y_train.reshape(y_train.shape[0], 1)\n",
    "cat = np.concatenate([X_train_lda, y_train_pd], axis=1)"
   ]
  },
  {
   "cell_type": "code",
   "execution_count": 483,
   "metadata": {},
   "outputs": [
    {
     "data": {
      "text/plain": [
       "<matplotlib.axes._subplots.AxesSubplot at 0x7fb2ee2f6f40>"
      ]
     },
     "execution_count": 483,
     "metadata": {},
     "output_type": "execute_result"
    },
    {
     "data": {
      "image/png": "[encoded data removed]",
      "text/plain": [
       "<Figure size 576x576 with 1 Axes>"
      ]
     },
     "metadata": {
      "needs_background": "light"
     },
     "output_type": "display_data"
    }
   ],
   "source": [
    "plt.rcParams['figure.figsize'] = (8, 8)\n",
    "\n",
    "df = pd.DataFrame(data=cat, columns=[\"x1\", 'x2', 'class'])\n",
    "df.loc[df['class'] == 3, 'class'] = '3.a'\n",
    "df.loc[df['class'] == 4, 'class'] = '4.a'\n",
    "df.loc[df['class'] == 5, 'class'] = '5.a'\n",
    "df.loc[df['class'] == 6, 'class'] = '6.a'\n",
    "df.loc[df['class'] == 8, 'class'] = '8.a'\n",
    "df.loc[df['class'] == 10, 'class'] = '10.a'\n",
    "df.loc[df['class'] == 12, 'class'] = '12.a'\n",
    "sns.scatterplot(data=df, x=\"x1\", y=\"x2\", hue=\"class\")"
   ]
  },
  {
   "cell_type": "code",
   "execution_count": 491,
   "metadata": {},
   "outputs": [
    {
     "name": "stderr",
     "output_type": "stream",
     "text": [
      "100%|██████████| 45/45 [31:39<00:00, 42.22s/it]\n"
     ]
    }
   ],
   "source": [
    "from sklearn import ensemble\n",
    "from tqdm import tqdm\n",
    "\n",
    "acc_train = []\n",
    "acc_test = []\n",
    "\n",
    "for i in tqdm(range(1, 46)):\n",
    "    pca = PCA(n_components=i)\n",
    "    pca.fit(X_train)\n",
    "\n",
    "    X_train_pca = pca.transform(X_train)\n",
    "    X_test_pca = pca.transform(X_test)\n",
    "    \n",
    "    clf = ensemble.RandomForestClassifier(n_estimators = 1000)\n",
    "    clf.fit(X_train_pca, y_train.ravel())\n",
    "    \n",
    "    у_pred_train = clf.predict(X_train_pca)\n",
    "    у_pred_test = clf.predict(X_test_pca)\n",
    "    \n",
    "    acc_train.append(np.mean(y_train != у_pred_train))\n",
    "    acc_test.append(np.mean(y_test != у_pred_test))"
   ]
  },
  {
   "cell_type": "code",
   "execution_count": 492,
   "metadata": {},
   "outputs": [
    {
     "data": {
      "image/png": "[encoded data removed]",
      "text/plain": [
       "<Figure size 576x576 with 1 Axes>"
      ]
     },
     "metadata": {
      "needs_background": "light"
     },
     "output_type": "display_data"
    }
   ],
   "source": [
    "plt.scatter(range(1,46), acc_train, label='train loss', color='blue')\n",
    "plt.scatter(range(1,46), acc_test, label='test loss', color='orange')\n",
    "\n",
    "plt.plot(range(1,46), acc_train, color='blue')\n",
    "plt.plot(range(1,46), acc_test, color='orange')\n",
    "plt.legend()\n",
    "plt.grid()"
   ]
  },
  {
   "cell_type": "code",
   "execution_count": null,
   "metadata": {},
   "outputs": [],
   "source": []
  }
 ],
 "metadata": {
  "kernelspec": {
   "display_name": "Python 3",
   "language": "python",
   "name": "python3"
  },
  "language_info": {
   "codemirror_mode": {
    "name": "ipython",
    "version": 3
   },
   "file_extension": ".py",
   "mimetype": "text/x-python",
   "name": "python",
   "nbconvert_exporter": "python",
   "pygments_lexer": "ipython3",
   "version": "3.8.3"
  }
 },
 "nbformat": 4,
 "nbformat_minor": 4
}
